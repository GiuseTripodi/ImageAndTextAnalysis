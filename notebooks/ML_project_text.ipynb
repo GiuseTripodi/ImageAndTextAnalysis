{
  "cells": [
    {
      "cell_type": "markdown",
      "metadata": {
        "id": "view-in-github",
        "colab_type": "text"
      },
      "source": [
        "<a href=\"https://colab.research.google.com/github/GiuseTripodi/ImageAndTextAnalysis/blob/main/notebooks/ML_project_text.ipynb\" target=\"_parent\"><img src=\"https://colab.research.google.com/assets/colab-badge.svg\" alt=\"Open In Colab\"/></a>"
      ]
    },
    {
      "cell_type": "markdown",
      "metadata": {
        "id": "5eHcEyGh3lOy"
      },
      "source": [
        "# Text classification and anomaly detection\n",
        "\n",
        "**Author:** [Giuseppe Tripodi](https://www.linkedin.com/in/giuseppe-tripodi-unical/)<br>\n",
        "**Date created:** 2022/09/19<br>\n",
        "**Description:** Text Analysis\n",
        "\n",
        "# Introduction\n",
        "\n",
        "The goal of the project is to implement a machine learning system\n",
        "through the use of the Python programming language. A dataset of text will be analyzed.\n",
        "\n",
        "The following tasks are to be carried out:\n",
        "* classification\n",
        "* semi-supervised anomaly detection\n",
        "\n",
        "#Classification\n",
        "\n",
        "The models to be evaluated for this task are:\n",
        "\n",
        "- AdaBoost\n",
        "- SVM\n",
        "- Neural Networks\n",
        "- Density estimation (one among Bayes, Naive Bayes, LDA, GMM, KDE, KNN)\n",
        "\n",
        "At least one classifier must be delivered for each of these techniques;\n",
        "multiple classifiers belonging to the same family (e.g., a dense network and a convolutional network) can also be delivered if deemed appropriate.\n",
        "\n",
        "#Anomaly Detection\n",
        "\n",
        "At least one of the listed techniques should be used for classification.\n",
        "\n",
        "In this case, the largest class in the dataset should be considered as the main class, and examples of all other classes will constitute the anomalies.\n",
        "\n",
        "## Generic Details\n",
        "\n",
        "Model training should be carried out using only the elements of the main class. For detector quality assessment use ROC curves working on the whole dataset (main class plus anomalies).\n",
        "\n",
        "#Results to show\n",
        "\n",
        "**Accuracy**\n",
        "\n",
        "Among the results to be submitted must be the accuracy obtained by *10-fold cross-validation*. Also required is the delivery of the learned models (one per type) and a script that calculates their accuracy on a validation set encoded in the same format as the source data.\n",
        "\n",
        "**Report**\n",
        "\n",
        "A written report should be produced, approximately ten pages in length, to which the code should be attached. The report and software should be delivered within 2 days of the discussion date and may be supplemented during the discussion. Slides may be used for the presentation of the project activity, which will last 15 minutes.\n"
      ]
    },
    {
      "cell_type": "markdown",
      "metadata": {
        "id": "eIOO3X4j5Fe-"
      },
      "source": [
        "# Setup"
      ]
    },
    {
      "cell_type": "markdown",
      "metadata": {
        "id": "KLVUpaxX9ak3"
      },
      "source": [
        "## Import"
      ]
    },
    {
      "cell_type": "code",
      "execution_count": null,
      "metadata": {
        "colab": {
          "base_uri": "https://localhost:8080/"
        },
        "id": "m4yNpclw5HoD",
        "outputId": "f4dba994-50ba-4afa-f50c-bfedbf5cdbe2"
      },
      "outputs": [
        {
          "name": "stderr",
          "output_type": "stream",
          "text": [
            "[nltk_data] Downloading package stopwords to /root/nltk_data...\n",
            "[nltk_data]   Unzipping corpora/stopwords.zip.\n",
            "[nltk_data] Downloading package wordnet to /root/nltk_data...\n",
            "[nltk_data] Downloading package omw-1.4 to /root/nltk_data...\n"
          ]
        }
      ],
      "source": [
        "import warnings\n",
        "import os\n",
        "import sys\n",
        "import json\n",
        "import pandas as pd\n",
        "import json\n",
        "import tensorflow as tf\n",
        "import tensorflow_datasets as tfds\n",
        "from tensorflow.keras import callbacks, metrics\n",
        "from keras.wrappers.scikit_learn import KerasClassifier\n",
        "\n",
        "import pandas as pd\n",
        "from PIL import Image\n",
        "import cv2\n",
        "import numpy as np\n",
        "\n",
        "\n",
        "import numpy as np\n",
        "import re\n",
        "import nltk\n",
        "from sklearn.datasets import load_files\n",
        "nltk.download('stopwords')\n",
        "nltk.download('wordnet')\n",
        "nltk.download('omw-1.4')\n",
        "import pickle\n",
        "from nltk.corpus import stopwords\n",
        "from nltk.stem import WordNetLemmatizer\n",
        "from sklearn.feature_extraction.text import TfidfVectorizer\n",
        "from sklearn.metrics import accuracy_score,confusion_matrix\n",
        "from sklearn.ensemble import AdaBoostClassifier\n",
        "from sklearn.tree import DecisionTreeClassifier\n",
        "from sklearn.model_selection import train_test_split\n",
        "from sklearn.feature_extraction.text import CountVectorizer\n",
        "import pickle\n",
        "import seaborn as sns\n",
        "from sklearn.utils import shuffle\n",
        "import time\n",
        "\n",
        "# Load model libraries\n",
        "from sklearn.ensemble import AdaBoostClassifier\n",
        "from sklearn import datasets, preprocessing\n",
        "# Import train_test_split function\n",
        "from sklearn.model_selection import train_test_split\n",
        "#Import scikit-learn metrics module for accuracy calculation\n",
        "from sklearn import metrics\n",
        "# Import Support Vector Classifier\n",
        "from sklearn.svm import SVC\n",
        "from sklearn.model_selection import GridSearchCV , RandomizedSearchCV\n",
        "import numpy as np\n",
        "from sklearn.svm import SVC\n",
        "import matplotlib.pyplot as plt\n",
        "from keras.datasets import mnist\n",
        "from sklearn.decomposition import PCA\n",
        "import scipy\n",
        "import scipy.stats #distributions\n",
        "from sklearn.model_selection import RandomizedSearchCV\n",
        "from sklearn.feature_extraction.text import TfidfTransformer\n",
        "\n",
        "\n",
        "#ADABOOST\n",
        "from sklearn.ensemble import RandomForestClassifier\n",
        "from sklearn.linear_model import LogisticRegression\n",
        "\n",
        "\n",
        "#SVM\n",
        "from sklearn.linear_model import SGDClassifier\n",
        "from sklearn.svm import OneClassSVM\n",
        "from sklearn import linear_model\n",
        "\n",
        "\n",
        "\n",
        "#NEURAL NETWORK IMPORT\n",
        "import sys\n",
        "from tensorflow.keras.models import Sequential\n",
        "import os\n",
        "import pickle\n",
        "import keras\n",
        "from tensorflow.keras.datasets import imdb\n",
        "from tensorflow.keras.preprocessing import sequence\n",
        "import matplotlib.pyplot as plt\n",
        "import numpy as np\n",
        "from tensorflow.keras.layers import Embedding, SimpleRNN, Dense, LSTM\n",
        "from sklearn.preprocessing import MinMaxScaler\n",
        "from pandas import read_csv\n",
        "import math\n",
        "import numpy\n",
        "import nltk\n",
        "from nltk.tokenize import RegexpTokenizer\n",
        "from nltk.corpus import stopwords\n",
        "from tensorflow.keras.layers import Dense, Dropout, LSTM, SpatialDropout1D, Embedding\n",
        "from tensorflow.keras.utils import to_categorical\n",
        "from tensorflow.keras.callbacks import ModelCheckpoint\n",
        "from tensorflow.keras.preprocessing import sequence\n",
        "import keras\n",
        "from keras.models import Sequential\n",
        "from keras.layers import Dense, Flatten\n",
        "\n",
        "#Metrics\n",
        "from sklearn.metrics import confusion_matrix, mean_squared_error, roc_auc_score\n",
        "from sklearn.model_selection import cross_val_score\n",
        "from sklearn import metrics\n",
        "\n",
        " \n",
        "#Kernel Density\n",
        "from sklearn.naive_bayes import MultinomialNB\n",
        "from sklearn.neighbors import KernelDensity\n",
        "from sklearn.naive_bayes import GaussianNB\n",
        "from sklearn.naive_bayes import ComplementNB\n",
        "from sklearn.neighbors import KNeighborsClassifier\n",
        "from sklearn.neighbors import NearestNeighbors\n",
        "\n",
        "\n",
        "#plotting package\n",
        "import seaborn as sns\n",
        "from matplotlib import pyplot as plt\n",
        "from sklearn.metrics import roc_curve\n",
        "from sklearn.metrics import RocCurveDisplay\n",
        "from sklearn.metrics import ConfusionMatrixDisplay\n",
        "\n",
        "\n",
        "#Other Technique\n",
        "from sklearn.ensemble import IsolationForest\n",
        "from sklearn.model_selection import train_test_split\n",
        "from sklearn.metrics import precision_score\n",
        "from sklearn import preprocessing\n"
      ]
    },
    {
      "cell_type": "markdown",
      "metadata": {
        "id": "Zb427JRI9ehu"
      },
      "source": [
        "## Setting Up Colab"
      ]
    },
    {
      "cell_type": "code",
      "execution_count": null,
      "metadata": {
        "colab": {
          "base_uri": "https://localhost:8080/",
          "height": 17
        },
        "id": "yNAFOX489gWn",
        "outputId": "c7d16880-7870-4230-be09-7b80940b0993"
      },
      "outputs": [
        {
          "data": {
            "application/javascript": [
              "function ClickConnect(){\n",
              "console.log(\"Working\");\n",
              "document.querySelector(\"colab-toolbar-button#connect\").click()\n",
              "}setInterval(ClickConnect,60000)\n"
            ],
            "text/plain": [
              "<IPython.core.display.Javascript object>"
            ]
          },
          "metadata": {},
          "output_type": "display_data"
        }
      ],
      "source": [
        "# Ensure colab doesn't disconnect\n",
        "%%javascript\n",
        "function ClickConnect(){\n",
        "console.log(\"Working\");\n",
        "document.querySelector(\"colab-toolbar-button#connect\").click()\n",
        "}setInterval(ClickConnect,60000)"
      ]
    },
    {
      "cell_type": "code",
      "execution_count": null,
      "metadata": {
        "colab": {
          "base_uri": "https://localhost:8080/"
        },
        "id": "MrRkVhcP9jig",
        "outputId": "9b733ef8-1aee-4e73-9557-571455eeb367"
      },
      "outputs": [
        {
          "name": "stdout",
          "output_type": "stream",
          "text": [
            "Mounted at /content/gdrive\n",
            "/content/gdrive/My Drive/ML_workspace\n"
          ]
        }
      ],
      "source": [
        "#connect to google drive and get the  dataset\n",
        "from google.colab import drive\n",
        "drive.mount(\"/content/gdrive\")\n",
        "os.chdir(\"/content/gdrive/My Drive/ML_workspace\") #set home directory\n",
        "print(os.getcwd())"
      ]
    },
    {
      "cell_type": "code",
      "execution_count": null,
      "metadata": {
        "id": "KGQ_TlviOnOQ"
      },
      "outputs": [],
      "source": [
        "#set the seed to obtain the same results each time\n",
        "np.random.seed(500)"
      ]
    },
    {
      "cell_type": "markdown",
      "metadata": {
        "id": "TaV7eeoNT7KS"
      },
      "source": [
        "## Support Functions"
      ]
    },
    {
      "cell_type": "code",
      "execution_count": null,
      "metadata": {
        "id": "4tu8KcqPT8-R"
      },
      "outputs": [],
      "source": [
        "'''\n",
        "the function takes the model and does the training\n",
        "model: model to train\n",
        "X_train: training set\n",
        "y_train: labels\n",
        "MODEL_NAME: name of the model\n",
        "METHOD: method used \n",
        "'''\n",
        "\n",
        "def train_model(model, X_train, y_train, MODEL_NAME, METHOD, rerun:False):\n",
        "  #check if the model exist\n",
        "  DIR = \"/content/gdrive/MyDrive/ML_workspace/models_text\"\n",
        "  file_ = f'{DIR}/{METHOD}/{MODEL_NAME}.sav'\n",
        "\n",
        "  exists = os.path.isfile(file_)\n",
        "  if exists and not rerun:\n",
        "    with open(file_, \"rb\") as sav_file:\n",
        "      model = pickle.load(sav_file)\n",
        "  else:\n",
        "    # Train Adaboost Classifer\n",
        "    model.fit(X_train, y_train)    \n",
        "    with open(file_,'wb') as sav_file:\n",
        "      pickle.dump(model, sav_file)\n",
        "  return model"
      ]
    },
    {
      "cell_type": "code",
      "execution_count": null,
      "metadata": {
        "id": "t8jOFeSnrN_X"
      },
      "outputs": [],
      "source": [
        "def train_neural_network(model, X_train, y_train, X_val, y_val, epochs, MODEL_NAME, METHOD, rerun:False):\n",
        "\n",
        "  #check if the model exist\n",
        "  DIR = \"/content/gdrive/MyDrive/ML_workspace/models_text\"\n",
        "\n",
        "  file_ = f'{DIR}/{METHOD}/{MODEL_NAME}.hist'\n",
        "  model_file = f'{DIR}/{METHOD}/{MODEL_NAME}_model.h5'\n",
        "\n",
        "  exists = os.path.isfile(file_)\n",
        "  if exists and not rerun:\n",
        "    with open(file_,'rb') as hist_file:\n",
        "      history_dict = pickle.load(hist_file)\n",
        "      model = keras.models.load_model(model_file)\n",
        "  else:\n",
        "    history = model.fit(X_train, y_train, epochs=epochs, verbose=0, validation_data = (X_val, y_val))\n",
        "    history_dict = history.history\n",
        "    with open(file_,'wb') as hist_file:\n",
        "        pickle.dump(history_dict, hist_file)\n",
        "    model.save(model_file)\n",
        "  return model, history_dict"
      ]
    },
    {
      "cell_type": "code",
      "execution_count": null,
      "metadata": {
        "id": "hqhxdSuQLd0P"
      },
      "outputs": [],
      "source": [
        "def train_rnn(model, X_train, Y_train, epochs, batch_size, validation_split, MODEL_NAME, METHOD, rerun:False):\n",
        "\n",
        "  #check if the model exist\n",
        "  file_ = f'{DIR}/NN/{MODEL_NAME}.hist'\n",
        "  model_file = f'{DIR}/{METHOD}/{MODEL_NAME}_model.h5'\n",
        "\n",
        "  exists = os.path.isfile(file_)\n",
        "  if exists and not rerun:\n",
        "    with open(file_,'rb') as hist_file:\n",
        "      history_dict = pickle.load(hist_file)\n",
        "      model = keras.models.load_model(model_file)\n",
        "  else:\n",
        "    #history = model.fit(X_train, Y_train, epochs=epochs, batch_size=batch_size,validation_split=0.1,callbacks=[EarlyStopping(monitor='val_loss', patience=3, min_delta=0.0001)])\n",
        "    history = model.fit(X_train, Y_train, epochs=epochs, batch_size=batch_size,validation_split=validation_split)\n",
        "    history_dict = history.history\n",
        "    with open(file_,'wb') as hist_file:\n",
        "      pickle.dump(history_dict, hist_file)\n",
        "    model.save(model_file)\n",
        "  return model, history_dict"
      ]
    },
    {
      "cell_type": "code",
      "execution_count": null,
      "metadata": {
        "id": "ekBRY5_TqjKm"
      },
      "outputs": [],
      "source": [
        "f = 1\n",
        "def hist_plot(history_dict, title):\n",
        "    global f;\n",
        "    acc = history_dict['accuracy'];\n",
        "    val_acc = history_dict['val_accuracy'];\n",
        "    loss = history_dict['loss'];\n",
        "    epochs = range(1, len(acc) + 1); # 2 3\n",
        "    plt.figure(f);\n",
        "    f = f + 1;\n",
        "    plt.plot(epochs, acc, 'bo', label='Training acc');\n",
        "    plt.plot(epochs, val_acc, 'b', label='Validation acc');\n",
        "    plt.title(title);\n",
        "    eps = 3e-3;\n",
        "    n = 7;\n",
        "    ym = np.min([np.min(acc), np.min(val_acc)])-eps;\n",
        "    yM = np.max([np.max(acc), np.max(val_acc)])+eps;\n",
        "    yt = np.array([*range(n+1)])*(yM-ym)/n+ym;\n",
        "    plt.yticks(yt);\n",
        "    plt.xlabel('Epochs');\n",
        "    plt.ylabel('Accuracy');\n",
        "    plt.legend(loc='lower right');\n",
        "    plt.ion();\n",
        "    plt.show();\n",
        "    plt.pause(3.0001);\n"
      ]
    },
    {
      "cell_type": "code",
      "execution_count": null,
      "metadata": {
        "id": "qq-JIWwxqjoX"
      },
      "outputs": [],
      "source": [
        "#code from https://www.tensorflow.org/text/tutorials/text_classification_rnn\n",
        "def plot_graphs(history_dict, metric):\n",
        "  plt.plot(history_dict[metric])\n",
        "  plt.plot(history_dict['val_'+metric], '')\n",
        "  plt.xlabel(\"Epochs\")\n",
        "  plt.ylabel(metric)\n",
        "  plt.legend([metric, 'val_'+metric])"
      ]
    },
    {
      "cell_type": "code",
      "execution_count": null,
      "metadata": {
        "id": "b-x4KTlKyKXj"
      },
      "outputs": [],
      "source": [
        "def print_stats(y_true, y_pred):\n",
        "  print(\"Accuracy:\", \"%.2f\" % ( metrics.accuracy_score(y_true, y_pred) * 100))\n",
        "  print('F1: ', \"%.2f\" % (metrics.f1_score(y_true, y_pred, average='weighted') * 100 )) \n",
        "  print('Precision: ', \"%.2f\" % (metrics.precision_score(y_true, y_pred, average='weighted') * 100 )) \n",
        "  print('Recall: ', \"%.2f\" % (metrics.recall_score(y_true, y_pred, average='weighted') * 100 ))"
      ]
    },
    {
      "cell_type": "markdown",
      "metadata": {
        "id": "gEpeMHCD6nUe"
      },
      "source": [
        "# Load Data"
      ]
    },
    {
      "cell_type": "markdown",
      "metadata": {
        "id": "ifTQvO568Ith"
      },
      "source": [
        "## Create the dataset"
      ]
    },
    {
      "cell_type": "code",
      "execution_count": null,
      "metadata": {
        "id": "arYcFS1B8Lag"
      },
      "outputs": [],
      "source": [
        "path = \"/content/gdrive/MyDrive/ML_workspace/Dataset/testi-3/testi-3/testi-3.xlsx\"\n",
        "data = pd.read_excel(path)\n",
        "X = data[\"cleaned_website_text\"]\n",
        "y = data[\"Category\"]"
      ]
    },
    {
      "cell_type": "code",
      "execution_count": null,
      "metadata": {
        "colab": {
          "base_uri": "https://localhost:8080/",
          "height": 206
        },
        "id": "Cr-n18hdjNnq",
        "outputId": "ed6b8354-aabf-4bb9-ea07-3d53ca1c97fe"
      },
      "outputs": [
        {
          "data": {
            "text/html": [
              "\n",
              "  <div id=\"df-13f43b55-60fb-49ef-91ab-e4185727f039\">\n",
              "    <div class=\"colab-df-container\">\n",
              "      <div>\n",
              "<style scoped>\n",
              "    .dataframe tbody tr th:only-of-type {\n",
              "        vertical-align: middle;\n",
              "    }\n",
              "\n",
              "    .dataframe tbody tr th {\n",
              "        vertical-align: top;\n",
              "    }\n",
              "\n",
              "    .dataframe thead th {\n",
              "        text-align: right;\n",
              "    }\n",
              "</style>\n",
              "<table border=\"1\" class=\"dataframe\">\n",
              "  <thead>\n",
              "    <tr style=\"text-align: right;\">\n",
              "      <th></th>\n",
              "      <th>cleaned_website_text</th>\n",
              "      <th>Category</th>\n",
              "    </tr>\n",
              "  </thead>\n",
              "  <tbody>\n",
              "    <tr>\n",
              "      <th>0</th>\n",
              "      <td>official site good hotel accommodation big sav...</td>\n",
              "      <td>Travel</td>\n",
              "    </tr>\n",
              "    <tr>\n",
              "      <th>1</th>\n",
              "      <td>expedia hotel book sites like use vacation wor...</td>\n",
              "      <td>Travel</td>\n",
              "    </tr>\n",
              "    <tr>\n",
              "      <th>2</th>\n",
              "      <td>tripadvisor hotel book sites like previously d...</td>\n",
              "      <td>Travel</td>\n",
              "    </tr>\n",
              "    <tr>\n",
              "      <th>3</th>\n",
              "      <td>cheap flights search compare flights momondo f...</td>\n",
              "      <td>Travel</td>\n",
              "    </tr>\n",
              "    <tr>\n",
              "      <th>4</th>\n",
              "      <td>bot create free account create free account si...</td>\n",
              "      <td>Travel</td>\n",
              "    </tr>\n",
              "  </tbody>\n",
              "</table>\n",
              "</div>\n",
              "      <button class=\"colab-df-convert\" onclick=\"convertToInteractive('df-13f43b55-60fb-49ef-91ab-e4185727f039')\"\n",
              "              title=\"Convert this dataframe to an interactive table.\"\n",
              "              style=\"display:none;\">\n",
              "        \n",
              "  <svg xmlns=\"http://www.w3.org/2000/svg\" height=\"24px\"viewBox=\"0 0 24 24\"\n",
              "       width=\"24px\">\n",
              "    <path d=\"M0 0h24v24H0V0z\" fill=\"none\"/>\n",
              "    <path d=\"M18.56 5.44l.94 2.06.94-2.06 2.06-.94-2.06-.94-.94-2.06-.94 2.06-2.06.94zm-11 1L8.5 8.5l.94-2.06 2.06-.94-2.06-.94L8.5 2.5l-.94 2.06-2.06.94zm10 10l.94 2.06.94-2.06 2.06-.94-2.06-.94-.94-2.06-.94 2.06-2.06.94z\"/><path d=\"M17.41 7.96l-1.37-1.37c-.4-.4-.92-.59-1.43-.59-.52 0-1.04.2-1.43.59L10.3 9.45l-7.72 7.72c-.78.78-.78 2.05 0 2.83L4 21.41c.39.39.9.59 1.41.59.51 0 1.02-.2 1.41-.59l7.78-7.78 2.81-2.81c.8-.78.8-2.07 0-2.86zM5.41 20L4 18.59l7.72-7.72 1.47 1.35L5.41 20z\"/>\n",
              "  </svg>\n",
              "      </button>\n",
              "      \n",
              "  <style>\n",
              "    .colab-df-container {\n",
              "      display:flex;\n",
              "      flex-wrap:wrap;\n",
              "      gap: 12px;\n",
              "    }\n",
              "\n",
              "    .colab-df-convert {\n",
              "      background-color: #E8F0FE;\n",
              "      border: none;\n",
              "      border-radius: 50%;\n",
              "      cursor: pointer;\n",
              "      display: none;\n",
              "      fill: #1967D2;\n",
              "      height: 32px;\n",
              "      padding: 0 0 0 0;\n",
              "      width: 32px;\n",
              "    }\n",
              "\n",
              "    .colab-df-convert:hover {\n",
              "      background-color: #E2EBFA;\n",
              "      box-shadow: 0px 1px 2px rgba(60, 64, 67, 0.3), 0px 1px 3px 1px rgba(60, 64, 67, 0.15);\n",
              "      fill: #174EA6;\n",
              "    }\n",
              "\n",
              "    [theme=dark] .colab-df-convert {\n",
              "      background-color: #3B4455;\n",
              "      fill: #D2E3FC;\n",
              "    }\n",
              "\n",
              "    [theme=dark] .colab-df-convert:hover {\n",
              "      background-color: #434B5C;\n",
              "      box-shadow: 0px 1px 3px 1px rgba(0, 0, 0, 0.15);\n",
              "      filter: drop-shadow(0px 1px 2px rgba(0, 0, 0, 0.3));\n",
              "      fill: #FFFFFF;\n",
              "    }\n",
              "  </style>\n",
              "\n",
              "      <script>\n",
              "        const buttonEl =\n",
              "          document.querySelector('#df-13f43b55-60fb-49ef-91ab-e4185727f039 button.colab-df-convert');\n",
              "        buttonEl.style.display =\n",
              "          google.colab.kernel.accessAllowed ? 'block' : 'none';\n",
              "\n",
              "        async function convertToInteractive(key) {\n",
              "          const element = document.querySelector('#df-13f43b55-60fb-49ef-91ab-e4185727f039');\n",
              "          const dataTable =\n",
              "            await google.colab.kernel.invokeFunction('convertToInteractive',\n",
              "                                                     [key], {});\n",
              "          if (!dataTable) return;\n",
              "\n",
              "          const docLinkHtml = 'Like what you see? Visit the ' +\n",
              "            '<a target=\"_blank\" href=https://colab.research.google.com/notebooks/data_table.ipynb>data table notebook</a>'\n",
              "            + ' to learn more about interactive tables.';\n",
              "          element.innerHTML = '';\n",
              "          dataTable['output_type'] = 'display_data';\n",
              "          await google.colab.output.renderOutput(dataTable, element);\n",
              "          const docLink = document.createElement('div');\n",
              "          docLink.innerHTML = docLinkHtml;\n",
              "          element.appendChild(docLink);\n",
              "        }\n",
              "      </script>\n",
              "    </div>\n",
              "  </div>\n",
              "  "
            ],
            "text/plain": [
              "                                cleaned_website_text Category\n",
              "0  official site good hotel accommodation big sav...   Travel\n",
              "1  expedia hotel book sites like use vacation wor...   Travel\n",
              "2  tripadvisor hotel book sites like previously d...   Travel\n",
              "3  cheap flights search compare flights momondo f...   Travel\n",
              "4  bot create free account create free account si...   Travel"
            ]
          },
          "execution_count": 12,
          "metadata": {},
          "output_type": "execute_result"
        }
      ],
      "source": [
        "data.head()"
      ]
    },
    {
      "cell_type": "code",
      "execution_count": null,
      "metadata": {
        "colab": {
          "base_uri": "https://localhost:8080/",
          "height": 125
        },
        "id": "15rut_YLZYva",
        "outputId": "bc2199be-d0b7-44eb-c84c-4ce252253e5e"
      },
      "outputs": [
        {
          "data": {
            "application/vnd.google.colaboratory.intrinsic+json": {
              "type": "string"
            },
            "text/plain": [
              "'official site good hotel accommodation big saving hotel destination worldwide browse hotel review find guarantee good price hotel budget lodging accommodation hotel hotels special offer package special weekend break city break deal budget cheap discount saving select language find deal hotel home try search connect traveller india travel talk community recommend destination flamborough boreland colvend catfield harberton warleggan inspiration trip spot winter wildlife beautiful snowy island bye bye work want spontechnaity tech drive travel vital value maximise travel homes guest love browse property type hotels apartments resorts villa cabins cottage glamping serviced apartment holiday home guest house hostels motels ryokans riads holiday park homestays campsites country house farm stay boats luxury tent self catering accommodation tiny house chapel saint leonards wuqing wuchang saint eval great rowsley instow verified review real guest work start booking follow trip finally review skip main content inr choose currency current currency indian rupee choose language current language english uk english uk english deutsch nederlands français español español ar español mx català italiano português pt português br norsk suomi svenska dansk čeština magyar română 日本語 简体中文 繁體中文 polski ελληνικά русский türkçe български العربية 한국어 עברית latviski українська bahasa indonesia bahasa malaysia ภาษาไทย eesti hrvatski lietuvių slovenčina srpski slovenščina tiếng việt filipino íslenska help reservation list property register sign coronavirus support check travel restriction travel permit certain purpose particular touristic travel allow read find deal hotel home cosy country home funky city flat type destination error enter destination start search flamborough boreland colvend catfield check check room occupancy adult child room adults adults children child rooms room search want entire home apartment travel work result show map travel offer enjoy stay january deal early deal save booking good start find deal travel community traveller general discussion traveller view traveller explore india popular destination lot offer goa property lonavala property north goa property mahabaleshwar property mumbai property new delhi property south goa property jaipur property alibaug property bangalore property find apartment villa aparthotels holiday homes cottage home apartment trip discover home flamborough property boreland colvend property catfield property harberton property warleggan property animal hibernate winter destination embrace cold magical frost tip vista blissful quiet snowy island promise pure escapism remote work long term reality soon set office traveller technology regain confidence help travel safely traveller prioritise value money book transparency flexibility sign member deal reveal secret deal sign hotels hotel apartment apartment resort resort villas villas cabin cabin cottage cottage glampe glamping site service apartment serviced apartment holiday home holiday home guest house guest house hostels hostel motel motel ryokan ryokan riad riad holiday park holiday park homestays homestay campsite campsite country house country house farm stay farm stay boats boat luxury tent luxury tent self catering accommodation self catering property tiny house tiny house united kingdom holiday rental holiday home villa apartment glamping site china china united kingdom holiday rental villa holiday home united kingdom villa holiday home holiday rental united kingdom holiday rental holiday home villa destination list property mobile version account change book online contact customer service affiliate business countries regions cities districts airports hotels places interest home apartments resorts villas hostels guest house unique place stay destination reviews travel communities seasonal holiday deal travel agents coronavirus faq contact customer service partner help careers sustainability press centre safety resource centre investor relation terms conditions partner dispute privacy cookie statement corporate contact seek get perfect place listing include listing home apartment unique place stay locate destination country territory base amsterdam netherlands support internationally office country extranet login copyright right reserve booking holdings world leader online travel related service start dialog content million property review real verify guest start booking way leave review booking know review come real guest stay property follow trip guest stay property check quiet room friendly staff finally review trip guest tell stay check naughty word verify authenticity guest review add site book want leave review sign sign leave review end dialog content check date check date mo tu th fr sa su close calendar sign continue sign account use option account create account gogless'"
            ]
          },
          "execution_count": 13,
          "metadata": {},
          "output_type": "execute_result"
        }
      ],
      "source": [
        "data[\"cleaned_website_text\"][0]"
      ]
    },
    {
      "cell_type": "code",
      "execution_count": null,
      "metadata": {
        "colab": {
          "base_uri": "https://localhost:8080/"
        },
        "id": "t-vy9qNqZ6Aq",
        "outputId": "0a4c643f-c6ea-4bf7-b11c-91213f6dd49a"
      },
      "outputs": [
        {
          "data": {
            "text/plain": [
              "(1376, 2)"
            ]
          },
          "execution_count": 14,
          "metadata": {},
          "output_type": "execute_result"
        }
      ],
      "source": [
        "data.shape"
      ]
    },
    {
      "cell_type": "code",
      "execution_count": null,
      "metadata": {
        "colab": {
          "base_uri": "https://localhost:8080/"
        },
        "id": "mFGhuBjzPZ_O",
        "outputId": "ad81e06a-38cb-4455-aff4-a24e649a5f9e"
      },
      "outputs": [
        {
          "data": {
            "text/plain": [
              "14"
            ]
          },
          "execution_count": 15,
          "metadata": {},
          "output_type": "execute_result"
        }
      ],
      "source": [
        "N_CLASSES = data['Category'].nunique()\n",
        "N_CLASSES"
      ]
    },
    {
      "cell_type": "code",
      "execution_count": null,
      "metadata": {
        "colab": {
          "base_uri": "https://localhost:8080/"
        },
        "id": "McanaH2GBnOF",
        "outputId": "8fac70c2-90b4-484b-f39d-9d29ecbc5865"
      },
      "outputs": [
        {
          "data": {
            "text/plain": [
              "array(['Travel', 'Social Networking and Messaging', 'News',\n",
              "       'Streaming Services', 'Sports', 'Photography',\n",
              "       'Law and Government', 'Health and Fitness', 'Games', 'E-Commerce',\n",
              "       'Food', 'Education', 'Computers and Technology',\n",
              "       'Business/Corporate'], dtype=object)"
            ]
          },
          "execution_count": 16,
          "metadata": {},
          "output_type": "execute_result"
        }
      ],
      "source": [
        "CLASS_LABELS = data['Category'].unique()\n",
        "CLASS_LABELS"
      ]
    },
    {
      "cell_type": "code",
      "execution_count": null,
      "metadata": {
        "colab": {
          "base_uri": "https://localhost:8080/",
          "height": 475
        },
        "id": "Uhy_2IfFPkHN",
        "outputId": "c146639f-d48d-491e-cfa2-2990c0b3facd"
      },
      "outputs": [
        {
          "data": {
            "image/png": "[encoded data removed]",
            "text/plain": [
              "<Figure size 2520x720 with 1 Axes>"
            ]
          },
          "metadata": {},
          "output_type": "display_data"
        }
      ],
      "source": [
        "data['Category'].value_counts().sort_index().plot(kind='bar', rot=0, ylabel='count', figsize=(35,10))\n",
        "plt.show()"
      ]
    },
    {
      "cell_type": "code",
      "execution_count": null,
      "metadata": {
        "colab": {
          "base_uri": "https://localhost:8080/"
        },
        "id": "eAbZQjX0iq8V",
        "outputId": "826116df-c065-4b2a-fe77-7fa52334804f"
      },
      "outputs": [
        {
          "data": {
            "text/plain": [
              "Business/Corporate                 109\n",
              "Computers and Technology            93\n",
              "E-Commerce                         102\n",
              "Education                          114\n",
              "Food                                92\n",
              "Games                               98\n",
              "Health and Fitness                  96\n",
              "Law and Government                  84\n",
              "News                                96\n",
              "Photography                         93\n",
              "Social Networking and Messaging     83\n",
              "Sports                             104\n",
              "Streaming Services                 105\n",
              "Travel                             107\n",
              "Name: Category, dtype: int64"
            ]
          },
          "execution_count": 18,
          "metadata": {},
          "output_type": "execute_result"
        }
      ],
      "source": [
        "data['Category'].value_counts().sort_index()"
      ]
    },
    {
      "cell_type": "markdown",
      "metadata": {
        "id": "k6_DP8mQ8J-W"
      },
      "source": [
        "## Preprocessing: Extracting features from text files\n",
        "\n",
        "I will remove all unwanted special characters, numbers and spaces from our text."
      ]
    },
    {
      "cell_type": "code",
      "execution_count": null,
      "metadata": {
        "id": "2Av06iMl6owJ"
      },
      "outputs": [],
      "source": [
        "#code from https://stackabuse.com/text-classification-with-python-and-scikit-learn/\n",
        "documents = []\n",
        "\n",
        "from nltk.stem import WordNetLemmatizer\n",
        "\n",
        "stemmer = WordNetLemmatizer()\n",
        "\n",
        "for sen in range(0, len(X)):\n",
        "    # Remove all the special characters\n",
        "    document = re.sub(r'\\W', ' ', str(X[sen]))\n",
        "    \n",
        "    # remove all single characters\n",
        "    document = re.sub(r'\\s+[a-zA-Z]\\s+', ' ', document)\n",
        "    \n",
        "    # Remove single characters from the start\n",
        "    document = re.sub(r'\\^[a-zA-Z]\\s+', ' ', document) \n",
        "    \n",
        "    # Substituting multiple spaces with single space\n",
        "    document = re.sub(r'\\s+', ' ', document, flags=re.I)\n",
        "    \n",
        "    # Removing prefixed 'b'\n",
        "    document = re.sub(r'^b\\s+', '', document)\n",
        "    \n",
        "    # Converting to Lowercase\n",
        "    document = document.lower()\n",
        "    \n",
        "    documents.append(document)"
      ]
    },
    {
      "cell_type": "markdown",
      "metadata": {
        "id": "ORvZ7OgdCTl-"
      },
      "source": [
        "To perform machine learning on text documents, we must first transform the text content into numerical feature vectors.\n",
        "\n",
        "The final preprocessing step is lemmatization. In lemmatization, we reduce the word to the dictionary root form. For example, \"cats\" is converted to \"cat.\" Lemmatization is performed to avoid creating semantically similar but syntactically different features.\n"
      ]
    },
    {
      "cell_type": "code",
      "execution_count": null,
      "metadata": {
        "colab": {
          "base_uri": "https://localhost:8080/"
        },
        "id": "npuYYFvf-WNq",
        "outputId": "5bf8db2f-b408-4bf2-9616-3cb9aa01d252"
      },
      "outputs": [
        {
          "data": {
            "text/plain": [
              "(1376, 57480)"
            ]
          },
          "execution_count": 20,
          "metadata": {},
          "output_type": "execute_result"
        }
      ],
      "source": [
        "#Text preprocessing, tokenizing and filtering of stopwords are all included in CountVectorizer\n",
        "count_vect = CountVectorizer(stop_words=\"english\")\n",
        "X_train_counts = count_vect.fit_transform(documents)\n",
        "X_train_counts.shape"
      ]
    },
    {
      "cell_type": "markdown",
      "metadata": {
        "id": "7giKLLeL-VuA"
      },
      "source": [
        "The bag of words approach works fine for converting text to numbers. However, it has one drawback. It assigns a score to a word based on its occurrence in a particular document. It doesn't take into account the fact that the word might also be having a high frequency of occurrence in other documents as well. TFIDF resolves this issue by multiplying the term frequency of a word by the inverse document frequency\n",
        "\n",
        "This method transform a count matrix to a normalized tf or tf-idf representation."
      ]
    },
    {
      "cell_type": "code",
      "execution_count": null,
      "metadata": {
        "id": "lxf-1W09-6Ft"
      },
      "outputs": [],
      "source": [
        "tfidf_transformer = TfidfTransformer()\n",
        "X = tfidf_transformer.fit_transform(X_train_counts)"
      ]
    },
    {
      "cell_type": "markdown",
      "metadata": {
        "id": "PhIjGhDJNctA"
      },
      "source": [
        "## Training and Testing Sets"
      ]
    },
    {
      "cell_type": "code",
      "execution_count": null,
      "metadata": {
        "id": "5KQKm6fpNdf9"
      },
      "outputs": [],
      "source": [
        "from sklearn.model_selection import train_test_split\n",
        "X_train, X_val, y_train, y_val = train_test_split(X, y, test_size=0.2, random_state=1000)"
      ]
    },
    {
      "cell_type": "markdown",
      "metadata": {
        "id": "YYLjGaaF8B07"
      },
      "source": [
        "I create the dataset that I will use for cross-validation"
      ]
    },
    {
      "cell_type": "code",
      "execution_count": null,
      "metadata": {
        "id": "PORf-p0B7_5A"
      },
      "outputs": [],
      "source": [
        "X_, y_ = shuffle(X, y)"
      ]
    },
    {
      "cell_type": "markdown",
      "metadata": {
        "id": "_MwC05KJ5f6U"
      },
      "source": [
        "# Classification"
      ]
    },
    {
      "cell_type": "markdown",
      "metadata": {
        "id": "oJuLB0dg5lJU"
      },
      "source": [
        "## AdaBoost"
      ]
    },
    {
      "cell_type": "code",
      "execution_count": null,
      "metadata": {
        "colab": {
          "base_uri": "https://localhost:8080/"
        },
        "id": "Vv1A7D6Y5oOs",
        "outputId": "700411d8-73c4-43d5-81be-55e034d153fe"
      },
      "outputs": [
        {
          "name": "stdout",
          "output_type": "stream",
          "text": [
            "mkdir: cannot create directory ‘/content/gdrive/MyDrive/ML_workspace/models_text/ADABOOST’: File exists\n"
          ]
        }
      ],
      "source": [
        "#create dir \n",
        "DIR = \"/content/gdrive/MyDrive/ML_workspace/models_text\"\n",
        "METHOD = \"ADABOOST\"\n",
        "!mkdir {DIR}/{METHOD}"
      ]
    },
    {
      "cell_type": "markdown",
      "metadata": {
        "id": "CxIronK08q85"
      },
      "source": [
        "### 1. DecisionTree as Weak Learner"
      ]
    },
    {
      "cell_type": "code",
      "execution_count": null,
      "metadata": {
        "id": "aE7MNvOM8tmR"
      },
      "outputs": [],
      "source": [
        "MODEL_NAME = \"ADABOOST_decision_tree_1lv\"\n",
        "RERUN = True\n",
        "\n",
        "# Create adaboost classifer object\n",
        "model = AdaBoostClassifier(n_estimators=20000,\n",
        "                         learning_rate=0.01, random_state=101)\n",
        "\n",
        "model = train_model(model, X_train, y_train, MODEL_NAME, METHOD ,RERUN )"
      ]
    },
    {
      "cell_type": "code",
      "execution_count": null,
      "metadata": {
        "colab": {
          "base_uri": "https://localhost:8080/"
        },
        "id": "xtX8DWtl8xoM",
        "outputId": "fe793de3-5597-4730-fff4-e28cc393712a"
      },
      "outputs": [
        {
          "name": "stdout",
          "output_type": "stream",
          "text": [
            "Accuracy: 56.88\n",
            "F1:  59.85\n",
            "Precision:  70.99\n",
            "Recall:  56.88\n"
          ]
        }
      ],
      "source": [
        "#Predict the response for test dataset\n",
        "y_pred = model.predict(X_val)\n",
        "\n",
        "print_stats(y_val, y_pred)"
      ]
    },
    {
      "cell_type": "markdown",
      "metadata": {
        "id": "n81tji6vQoTp"
      },
      "source": [
        "#### DecisionTree with more level"
      ]
    },
    {
      "cell_type": "code",
      "execution_count": null,
      "metadata": {
        "id": "mdPz8L-KQrw9"
      },
      "outputs": [],
      "source": [
        "MODEL_NAME = \"ADABOOST_decision_tree_2lv\"\n",
        "RERUN = False\n",
        "\n",
        "# Create adaboost classifer object\n",
        "model = AdaBoostClassifier(n_estimators=5000, base_estimator=DecisionTreeClassifier(max_depth=2),\n",
        "                         learning_rate=0.5, random_state=101)\n",
        "\n",
        "model = train_model(model, X_train, y_train, MODEL_NAME, METHOD ,RERUN)"
      ]
    },
    {
      "cell_type": "code",
      "execution_count": null,
      "metadata": {
        "colab": {
          "base_uri": "https://localhost:8080/"
        },
        "id": "n7owfdBvQ9Ho",
        "outputId": "cbce33c1-ece0-49fe-d9cb-1e9a8063d8b4"
      },
      "outputs": [
        {
          "name": "stdout",
          "output_type": "stream",
          "text": [
            "Accuracy: 42.03\n",
            "F1:  44.95\n",
            "Precision:  60.74\n",
            "Recall:  42.03\n"
          ]
        }
      ],
      "source": [
        "#Predict the response for test dataset\n",
        "y_pred = model.predict(X_val)\n",
        "\n",
        "print_stats(y_val, y_pred)"
      ]
    },
    {
      "cell_type": "markdown",
      "metadata": {
        "id": "Fh4LUcOxGlAb"
      },
      "source": [
        "#### CrossValidations Accuracy"
      ]
    },
    {
      "cell_type": "code",
      "execution_count": null,
      "metadata": {
        "id": "bJiGcJNRGoj6"
      },
      "outputs": [],
      "source": [
        "#define the paramters\n",
        "cv = 10 #I want to do 10-fold-cross-validation\n",
        "\n",
        "# Create adaboost classifer object\n",
        "model = AdaBoostClassifier(n_estimators=1000, base_estimator=DecisionTreeClassifier(max_depth=2),\n",
        "                         learning_rate=0.5, random_state=101)\n",
        "scores = cross_val_score(model, X_, y_, cv=cv)"
      ]
    },
    {
      "cell_type": "code",
      "execution_count": null,
      "metadata": {
        "colab": {
          "base_uri": "https://localhost:8080/"
        },
        "id": "IN2vSdipHHxT",
        "outputId": "b47443af-baf5-4dfe-f784-362985dc6964"
      },
      "outputs": [
        {
          "name": "stdout",
          "output_type": "stream",
          "text": [
            "0.66 accuracy with a standard deviation of 0.03\n",
            "mean: 0.6569766211784618\n",
            "max value: 0.7101449275362319\n",
            "min value: 0.6159420289855072\n"
          ]
        }
      ],
      "source": [
        "print(\"%0.2f accuracy with a standard deviation of %0.2f\" % (scores.mean(), scores.std()))\n",
        "print(f\"mean: {scores.mean()}\")\n",
        "print(f\"max value: {scores.max()}\")\n",
        "print(f\"min value: {scores.min()}\")"
      ]
    },
    {
      "cell_type": "markdown",
      "metadata": {
        "id": "IyNVh_PO9lYW"
      },
      "source": [
        "### 2. SVC as Weak Learner"
      ]
    },
    {
      "cell_type": "code",
      "execution_count": null,
      "metadata": {
        "colab": {
          "background_save": true,
          "base_uri": "https://localhost:8080/"
        },
        "id": "ZHl6_mueVjmL",
        "outputId": "d586a787-f7e7-4a90-d930-92d1484fac82"
      },
      "outputs": [
        {
          "name": "stdout",
          "output_type": "stream",
          "text": [
            "Model: ADABOOST_SCV\n"
          ]
        }
      ],
      "source": [
        "MODEL_NAMES = [\"ADABOOST_SCV\",\"ADABOOST_SCV_poly\", \"ADABOOST_SCV_rbf\" ]\n",
        "\n",
        "#SVC classifier\n",
        "svc_classifier = [SVC(kernel='linear',gamma='auto'),SVC(kernel='poly',degree=3, gamma='auto'), SVC(kernel='rbf', gamma=0.5, C=0.1) ]\n",
        "\n",
        "#save the model after the fitting\n",
        "results = []\n",
        "for i in range(len(MODEL_NAMES)):\n",
        "  MODEL_NAME = MODEL_NAMES[i]\n",
        "  print(f\"Model: {MODEL_NAME}\")\n",
        "  svc = svc_classifier[i]\n",
        "  \n",
        "\n",
        "  model = AdaBoostClassifier(n_estimators=5000, base_estimator=svc,\n",
        "                         learning_rate=0.5, algorithm='SAMME')\n",
        "  \n",
        "  model = train_model(model, X_train, y_train, MODEL_NAME, METHOD , True)\n",
        "  \n",
        "  #Predict the response for test dataset\n",
        "  y_pred = model.predict(X_val)\n",
        "\n",
        "  print_stats(y_val, y_pred)"
      ]
    },
    {
      "cell_type": "markdown",
      "metadata": {
        "id": "SCz4ZIZBT37Y"
      },
      "source": [
        "### 3. Random Forest (BEST)\n",
        "\n",
        "Considering the poor performance with the other models, I decided to try another enseble."
      ]
    },
    {
      "cell_type": "code",
      "execution_count": null,
      "metadata": {
        "id": "JCgbQSAIT66_"
      },
      "outputs": [],
      "source": [
        "MODEL_NAME = \"ADABOOST_random_forest\"\n",
        "\n",
        "model = RandomForestClassifier(random_state=101)\n",
        "model = train_model(model, X_train, y_train, MODEL_NAME, METHOD ,False)"
      ]
    },
    {
      "cell_type": "code",
      "execution_count": null,
      "metadata": {
        "colab": {
          "base_uri": "https://localhost:8080/"
        },
        "id": "zbzlWgEjUZz7",
        "outputId": "5e89d5c9-0832-44a0-f11c-2744f0f9cdc1"
      },
      "outputs": [
        {
          "name": "stdout",
          "output_type": "stream",
          "text": [
            "Accuracy: 86.59\n",
            "F1:  86.12\n",
            "Precision:  87.39\n",
            "Recall:  86.59\n"
          ]
        }
      ],
      "source": [
        "#Predict the response for test dataset\n",
        "y_pred = model.predict(X_val)\n",
        "\n",
        "print_stats(y_val, y_pred)"
      ]
    },
    {
      "cell_type": "markdown",
      "metadata": {
        "id": "Q9RbJ2geMyn0"
      },
      "source": [
        "#### Plotting valutation"
      ]
    },
    {
      "cell_type": "code",
      "execution_count": null,
      "metadata": {
        "colab": {
          "base_uri": "https://localhost:8080/",
          "height": 374
        },
        "id": "icCN2KtkMlyI",
        "outputId": "11dc8a50-0594-4f7d-fba2-42f9fe8c2f4b"
      },
      "outputs": [
        {
          "data": {
            "image/png": "[encoded data removed]",
            "text/plain": [
              "<Figure size 720x432 with 2 Axes>"
            ]
          },
          "metadata": {},
          "output_type": "display_data"
        }
      ],
      "source": [
        "plt.subplots(figsize=(10,6))\n",
        "sns.heatmap(confusion_matrix(y_pred=y_pred,y_true=y_val),annot=True,fmt=\".1f\",linewidths=1.5,cmap=\"BuPu_r\")\n",
        "plt.show()"
      ]
    },
    {
      "cell_type": "markdown",
      "metadata": {
        "id": "TBIhbHprMnjm"
      },
      "source": [
        "#### CrossValidations Accuracy"
      ]
    },
    {
      "cell_type": "code",
      "execution_count": null,
      "metadata": {
        "id": "BOfPubgfMnjn"
      },
      "outputs": [],
      "source": [
        "#define the paramters\n",
        "cv = 10 #I want to do 10-fold-cross-validation\n",
        "\n",
        "# Create adaboost classifer object\n",
        "model = RandomForestClassifier(random_state=101)\n",
        "\n",
        "scores = cross_val_score(model, X_, y_, cv=cv)"
      ]
    },
    {
      "cell_type": "code",
      "execution_count": null,
      "metadata": {
        "colab": {
          "base_uri": "https://localhost:8080/"
        },
        "id": "zYetOh-jMnjp",
        "outputId": "91d8fd11-7f7c-482a-9401-f016c134551f"
      },
      "outputs": [
        {
          "name": "stdout",
          "output_type": "stream",
          "text": [
            "0.88 accuracy with a standard deviation of 0.03\n",
            "mean: 0.8750079339892098\n",
            "max value: 0.9347826086956522\n",
            "min value: 0.8333333333333334\n"
          ]
        }
      ],
      "source": [
        "print(\"%0.2f accuracy with a standard deviation of %0.2f\" % (scores.mean(), scores.std()))\n",
        "print(f\"mean: {scores.mean()}\")\n",
        "print(f\"max value: {scores.max()}\")\n",
        "print(f\"min value: {scores.min()}\")"
      ]
    },
    {
      "cell_type": "markdown",
      "metadata": {
        "id": "FftaKL_F5mbZ"
      },
      "source": [
        "## SVM\n",
        "\n",
        "Support vector machine (SVM) is widely regarded as one of the best text classification algorithms."
      ]
    },
    {
      "cell_type": "code",
      "execution_count": null,
      "metadata": {
        "colab": {
          "base_uri": "https://localhost:8080/"
        },
        "id": "ZjWR1REK_nmS",
        "outputId": "f806f658-7415-4268-ef16-0787edc36c5d"
      },
      "outputs": [
        {
          "name": "stdout",
          "output_type": "stream",
          "text": [
            "mkdir: cannot create directory ‘/content/gdrive/MyDrive/ML_workspace/models_text/SVM’: File exists\n"
          ]
        }
      ],
      "source": [
        "#create dir \n",
        "DIR = \"/content/gdrive/MyDrive/ML_workspace/models_text\"\n",
        "METHOD = \"SVM\"\n",
        "!mkdir {DIR}/{METHOD}"
      ]
    },
    {
      "cell_type": "markdown",
      "metadata": {
        "id": "NEvoJREx2QAQ"
      },
      "source": [
        "### SGCClassifier\n",
        "\n",
        "This estimator implements regularized linear models with stochastic gradient descent (SGD) learning. The model it fits can be controlled with the loss parameter; by default, it fits a linear support vector machine (SVM)(from [link text](https://scikit-learn.org/stable/modules/generated/sklearn.linear_model.SGDClassifier.html))."
      ]
    },
    {
      "cell_type": "code",
      "execution_count": null,
      "metadata": {
        "id": "dcxFQyo-_DDo"
      },
      "outputs": [],
      "source": [
        "MODEL_NAME = \"SVM_SGDClassifier\"\n",
        "\n",
        "text_clf = SGDClassifier(random_state=42)\n",
        "\n",
        "text_clf = train_model(text_clf, X_train, y_train, MODEL_NAME, METHOD ,False)"
      ]
    },
    {
      "cell_type": "code",
      "execution_count": null,
      "metadata": {
        "colab": {
          "base_uri": "https://localhost:8080/"
        },
        "id": "COiXctk9_6y6",
        "outputId": "51d69fe0-3662-4680-e6d9-f4605abea83c"
      },
      "outputs": [
        {
          "name": "stdout",
          "output_type": "stream",
          "text": [
            "Accuracy: 94.57\n",
            "F1:  94.44\n",
            "Precision:  94.60\n",
            "Recall:  94.57\n"
          ]
        }
      ],
      "source": [
        "y_pred = text_clf.predict(X_val)\n",
        "\n",
        "print_stats(y_val, y_pred)"
      ]
    },
    {
      "cell_type": "markdown",
      "metadata": {
        "id": "LNOZz7fSB7h6"
      },
      "source": [
        "#### Parameter tuning using grid search"
      ]
    },
    {
      "cell_type": "code",
      "execution_count": null,
      "metadata": {
        "id": "wVSqefNxB8gj"
      },
      "outputs": [],
      "source": [
        "parameters = {'alpha': (1e-1, 1e-2, 1e-3) , \"loss\": (\"hinge\", \"huber\",  \"perceptron\",)}\n",
        "text_clf = SGDClassifier( random_state=42, max_iter=5, tol=None)\n",
        "\n",
        "gs_clf = GridSearchCV(text_clf, parameters, cv=5, n_jobs=-1)\n",
        "\n",
        "#Let’s perform the search on a smaller subset of the training data to speed up the computation:\n",
        "gs_clf = gs_clf.fit(X_train, y_train)"
      ]
    },
    {
      "cell_type": "code",
      "execution_count": null,
      "metadata": {
        "colab": {
          "base_uri": "https://localhost:8080/"
        },
        "id": "icJRhD4bF3An",
        "outputId": "4f5e3651-8ccb-41d8-d06c-4fe24f465815"
      },
      "outputs": [
        {
          "name": "stdout",
          "output_type": "stream",
          "text": [
            "best score: 0.9354545454545453\n",
            "best params: {'alpha': 0.001, 'loss': 'hinge'}\n"
          ]
        }
      ],
      "source": [
        "print(f\"best score: {gs_clf.best_score_}\")\n",
        "print(f\"best params: {gs_clf.best_params_}\")"
      ]
    },
    {
      "cell_type": "code",
      "execution_count": null,
      "metadata": {
        "colab": {
          "base_uri": "https://localhost:8080/"
        },
        "id": "Z3TS-DyfGd4x",
        "outputId": "17d623e6-b71d-4661-f856-9f1a0c17c166"
      },
      "outputs": [
        {
          "name": "stdout",
          "output_type": "stream",
          "text": [
            "Accuracy: 94.56521739130434\n",
            "F1 (SGCClassifier):  94.44\n"
          ]
        }
      ],
      "source": [
        "best_estimator = gs_clf.best_estimator_\n",
        "\n",
        "y_pred = best_estimator.predict(X_val)\n",
        "print_stats(y_val, y_pred)"
      ]
    },
    {
      "cell_type": "markdown",
      "metadata": {
        "id": "CFACBXi8IG_W"
      },
      "source": [
        "#### CrossValidations Accuracy"
      ]
    },
    {
      "cell_type": "code",
      "execution_count": null,
      "metadata": {
        "id": "myIbHtRcIG_X"
      },
      "outputs": [],
      "source": [
        "#define the paramters\n",
        "cv = 10 #I want to do 10-fold-cross-validation\n",
        "\n",
        "# Create SGD classifer object\n",
        "model = SGDClassifier(loss='hinge', alpha=0.001, random_state=42, max_iter=5, tol=None)\n",
        "\n",
        "\n",
        "scores = cross_val_score(model, X_, y_, cv=cv)"
      ]
    },
    {
      "cell_type": "code",
      "execution_count": null,
      "metadata": {
        "colab": {
          "base_uri": "https://localhost:8080/"
        },
        "id": "WKugJP9MIG_Z",
        "outputId": "e6f58ec1-6009-4b95-e8f6-6db5aae2e6e6"
      },
      "outputs": [
        {
          "name": "stdout",
          "output_type": "stream",
          "text": [
            "0.94 accuracy with a standard deviation of 0.01\n",
            "mean: 0.9411456680418915\n",
            "max value: 0.9565217391304348\n",
            "min value: 0.9202898550724637\n"
          ]
        }
      ],
      "source": [
        "print(\"%0.2f accuracy with a standard deviation of %0.2f\" % (scores.mean(), scores.std()))\n",
        "print(f\"mean: {scores.mean()}\")\n",
        "print(f\"max value: {scores.max()}\")\n",
        "print(f\"min value: {scores.min()}\")"
      ]
    },
    {
      "cell_type": "markdown",
      "metadata": {
        "id": "bpILsH3D5nja"
      },
      "source": [
        "## Neural Network"
      ]
    },
    {
      "cell_type": "markdown",
      "metadata": {
        "id": "R5EW_WCAXIpF"
      },
      "source": [
        "### Setup"
      ]
    },
    {
      "cell_type": "markdown",
      "metadata": {
        "id": "oc8RF9O_XNrd"
      },
      "source": [
        "#### Sytem Setup"
      ]
    },
    {
      "cell_type": "code",
      "execution_count": null,
      "metadata": {
        "id": "fg12-n1nrIlh"
      },
      "outputs": [],
      "source": [
        "tf.compat.v1.experimental.output_all_intermediates(True)"
      ]
    },
    {
      "cell_type": "code",
      "execution_count": null,
      "metadata": {
        "colab": {
          "base_uri": "https://localhost:8080/"
        },
        "id": "hZ1OZ5R0g3u_",
        "outputId": "ddfa88f3-24b4-41b2-c662-a3131a33aa04"
      },
      "outputs": [
        {
          "name": "stdout",
          "output_type": "stream",
          "text": [
            "mkdir: cannot create directory ‘/content/gdrive/MyDrive/ML_workspace/models_text/NN’: File exists\n"
          ]
        }
      ],
      "source": [
        "#create dir \n",
        "DIR = \"/content/gdrive/MyDrive/ML_workspace/models_text\"\n",
        "METHOD = \"NN\"\n",
        "!mkdir {DIR}/{METHOD}"
      ]
    },
    {
      "cell_type": "code",
      "execution_count": null,
      "metadata": {
        "id": "79IpG8tAPmgd"
      },
      "outputs": [],
      "source": [
        "#convert the sparse matrix to a dense matrix\n",
        "X_train = X_train.toarray().astype(float)\n",
        "X_val = X_val.toarray().astype(float)"
      ]
    },
    {
      "cell_type": "code",
      "execution_count": null,
      "metadata": {
        "id": "PFABLiK5s5fX"
      },
      "outputs": [],
      "source": [
        "le = preprocessing.LabelEncoder()\n",
        "\n",
        "y_train_ = le.fit(y_train)\n",
        "\n",
        "y_train_ = le.transform(y_train)\n",
        "y_val_ = le.transform(y_val)"
      ]
    },
    {
      "cell_type": "markdown",
      "metadata": {
        "id": "wSdTkTpFf1fT"
      },
      "source": [
        "### Dense Network"
      ]
    },
    {
      "cell_type": "markdown",
      "metadata": {
        "id": "YFEuRH43u6jt"
      },
      "source": [
        "#### Test 1: Dense Network 3 x 16"
      ]
    },
    {
      "cell_type": "markdown",
      "metadata": {
        "id": "1WRyJ3Q_VNfN"
      },
      "source": [
        "##### Build and Train the model"
      ]
    },
    {
      "cell_type": "code",
      "execution_count": null,
      "metadata": {
        "id": "zLJqhxcLu7pZ"
      },
      "outputs": [],
      "source": [
        "model = keras.Sequential([\n",
        "    keras.layers.Input(shape=X_train.shape[1]),\n",
        "    keras.layers.Dense(16, activation='relu'),\n",
        "    keras.layers.Dense(16, activation='relu'),\n",
        "    keras.layers.Dense(16, activation='relu'),\n",
        "    keras.layers.Dense(N_CLASSES, activation='softmax')\n",
        "]);\n",
        "\n",
        "model.compile(loss='sparse_categorical_crossentropy', optimizer='adam', metrics=['accuracy']);\n"
      ]
    },
    {
      "cell_type": "code",
      "execution_count": null,
      "metadata": {
        "id": "oOmYT0kIvAYW"
      },
      "outputs": [],
      "source": [
        "MODEL_NAME = \"NN_dense_2\"\n",
        "epochs=20\n",
        "rerun = True\n",
        "\n",
        "model, history_dict = train_neural_network(model, X_train, y_train_, X_val, y_val_, epochs, MODEL_NAME, METHOD, rerun)"
      ]
    },
    {
      "cell_type": "markdown",
      "metadata": {
        "id": "E-lMiJFj3eiV"
      },
      "source": [
        "##### Valutation Model\n",
        "\n",
        "I decided to use the validation data as a validation set during training because that way I am also able to see if the model is actually improving and learning from the data. Using the dataset only for validation in the end would be useless for understanding how the model works."
      ]
    },
    {
      "cell_type": "code",
      "execution_count": null,
      "metadata": {
        "colab": {
          "base_uri": "https://localhost:8080/"
        },
        "id": "FtfWzjmb3c8e",
        "outputId": "296f18b3-19d4-490c-edb6-b9d2649c9012"
      },
      "outputs": [
        {
          "name": "stdout",
          "output_type": "stream",
          "text": [
            "9/9 [==============================] - 0s 5ms/step - loss: 0.4712 - accuracy: 0.8732\n",
            "Test Loss: 0.47123995423316956\n",
            "Test Accuracy: 0.8731883764266968\n"
          ]
        }
      ],
      "source": [
        "#get the last accuracy\n",
        "test_loss, test_acc = model.evaluate(X_val, y_val_)\n",
        "\n",
        "print('Test Loss:', test_loss)\n",
        "print('Test Accuracy:', test_acc)"
      ]
    },
    {
      "cell_type": "code",
      "execution_count": null,
      "metadata": {
        "colab": {
          "base_uri": "https://localhost:8080/",
          "height": 518
        },
        "id": "KW8kNqZ03krN",
        "outputId": "d1a6a58b-7953-4746-e282-aa10be832fcc"
      },
      "outputs": [
        {
          "data": {
            "text/plain": [
              "(0.0, 2.751700497046113)"
            ]
          },
          "execution_count": 50,
          "metadata": {},
          "output_type": "execute_result"
        },
        {
          "data": {
            "image/png": "[encoded data removed]",
            "text/plain": [
              "<Figure size 1152x576 with 2 Axes>"
            ]
          },
          "metadata": {},
          "output_type": "display_data"
        }
      ],
      "source": [
        "plt.figure(figsize=(16, 8))\n",
        "plt.subplot(1, 2, 1)\n",
        "plot_graphs(history_dict, 'accuracy')\n",
        "plt.ylim(None, 1)\n",
        "plt.subplot(1, 2, 2)\n",
        "plot_graphs(history_dict, 'loss')\n",
        "plt.ylim(0, None)"
      ]
    },
    {
      "cell_type": "markdown",
      "metadata": {
        "id": "vKVlXejU0v0r"
      },
      "source": [
        "#### Test 3: Dense Network (Best)"
      ]
    },
    {
      "cell_type": "markdown",
      "metadata": {
        "id": "2MfUk-zn-P5j"
      },
      "source": [
        "##### Build and Train the model"
      ]
    },
    {
      "cell_type": "code",
      "execution_count": null,
      "metadata": {
        "id": "57pk-KU5-RYr"
      },
      "outputs": [],
      "source": [
        "model = keras.Sequential([\n",
        "    keras.layers.Input(shape=X_train.shape[1]),\n",
        "    keras.layers.Dense(1280, activation=\"relu\"),\n",
        "    keras.layers.Dropout(0.5),\n",
        "    keras.layers.Dense(640, activation=\"relu\"),\n",
        "    keras.layers.Dropout(0.5),\n",
        "    keras.layers.Dense(320, activation=\"relu\"),\n",
        "    keras.layers.Dropout(0.5),\n",
        "    keras.layers.Dense(N_CLASSES, activation=\"softmax\"),\n",
        "])\n",
        "\n",
        "model.compile(loss='sparse_categorical_crossentropy', optimizer=\"Adam\", metrics=[\"accuracy\"])"
      ]
    },
    {
      "cell_type": "markdown",
      "metadata": {
        "id": "WrTCt4uuEQKW"
      },
      "source": [
        "I tried with *mse* loss but the results were very low, with you *sparse_categorical_crossentropy* I got better results."
      ]
    },
    {
      "cell_type": "code",
      "execution_count": null,
      "metadata": {
        "id": "HyIGZ5FN08_Q"
      },
      "outputs": [],
      "source": [
        "MODEL_NAME = \"NN_dense_3\"\n",
        "epochs=20\n",
        "\n",
        "model, history_dict = train_neural_network(model, X_train, y_train_, X_val, y_val_, epochs, MODEL_NAME, METHOD, True)"
      ]
    },
    {
      "cell_type": "markdown",
      "metadata": {
        "id": "QaoYfZowA5lr"
      },
      "source": [
        "##### Valutation Model"
      ]
    },
    {
      "cell_type": "code",
      "execution_count": null,
      "metadata": {
        "colab": {
          "base_uri": "https://localhost:8080/"
        },
        "id": "dnQLVqs5A8d9",
        "outputId": "d0c99c16-31d1-4125-a823-21dacb161f12"
      },
      "outputs": [
        {
          "name": "stdout",
          "output_type": "stream",
          "text": [
            "9/9 [==============================] - 0s 8ms/step - loss: 0.2134 - accuracy: 0.9493\n",
            "Test Loss: 0.213407963514328\n",
            "Test Accuracy: 0.9492753744125366\n"
          ]
        }
      ],
      "source": [
        "test_loss, test_acc = model.evaluate(X_val, y_val_)\n",
        "\n",
        "print('Test Loss:', test_loss)\n",
        "print('Test Accuracy:', test_acc)"
      ]
    },
    {
      "cell_type": "code",
      "execution_count": null,
      "metadata": {
        "colab": {
          "base_uri": "https://localhost:8080/",
          "height": 518
        },
        "id": "nHXEK9l9A_Ht",
        "outputId": "3e13fd5d-fae9-4a71-b6b2-3040bf9462cd"
      },
      "outputs": [
        {
          "data": {
            "text/plain": [
              "(0.0, 2.650968037590792)"
            ]
          },
          "execution_count": 82,
          "metadata": {},
          "output_type": "execute_result"
        },
        {
          "data": {
            "image/png": "[encoded data removed]",
            "text/plain": [
              "<Figure size 1152x576 with 2 Axes>"
            ]
          },
          "metadata": {},
          "output_type": "display_data"
        }
      ],
      "source": [
        "plt.figure(figsize=(16, 8))\n",
        "plt.subplot(1, 2, 1)\n",
        "plot_graphs(history_dict, 'accuracy')\n",
        "plt.ylim(None, 1)\n",
        "plt.subplot(1, 2, 2)\n",
        "plot_graphs(history_dict, 'loss')\n",
        "plt.ylim(0, None)"
      ]
    },
    {
      "cell_type": "markdown",
      "metadata": {
        "id": "h4Jea2aDJA22"
      },
      "source": [
        "##### CrossValidations Accuracy"
      ]
    },
    {
      "cell_type": "code",
      "execution_count": null,
      "metadata": {
        "colab": {
          "base_uri": "https://localhost:8080/"
        },
        "id": "JMJMlRRGMXDr",
        "outputId": "b039bd61-cd21-413e-f91d-1bcdc98e8f00"
      },
      "outputs": [
        {
          "name": "stdout",
          "output_type": "stream",
          "text": [
            "(1376, 57480)\n",
            "(1376,)\n"
          ]
        }
      ],
      "source": [
        "#join the two array\n",
        "X_ = np.concatenate((X_train, X_val), axis=0)\n",
        "y_ = np.concatenate((y_train_, y_val_), axis=0)\n",
        "\n",
        "#print shape\n",
        "print(X_.shape)\n",
        "print(y_.shape)"
      ]
    },
    {
      "cell_type": "code",
      "execution_count": null,
      "metadata": {
        "id": "4PWk87PdJA22"
      },
      "outputs": [],
      "source": [
        "# Create function returning a compiled network\n",
        "def create_network():\n",
        "  #¢reate the Network\n",
        "  model = keras.Sequential()\n",
        "  model.add(keras.layers.Input(shape=X_train.shape[1])),\n",
        "  model.add(keras.layers.Dense(1280, activation=\"relu\"))\n",
        "  model.add(keras.layers.Dropout(0.5))\n",
        "  model.add(keras.layers.Dense(640, activation=\"relu\"))\n",
        "  model.add(keras.layers.Dropout(0.5))\n",
        "  model.add(keras.layers.Dense(320, activation=\"relu\"))\n",
        "  model.add(keras.layers.Dropout(0.5))\n",
        "  model.add(keras.layers.Dense(N_CLASSES, activation=\"softmax\"))\n",
        "  \n",
        "  model.compile(loss='sparse_categorical_crossentropy', optimizer=\"Adam\", metrics=[\"accuracy\"])\n",
        "\n",
        "  return model"
      ]
    },
    {
      "cell_type": "code",
      "execution_count": null,
      "metadata": {
        "colab": {
          "base_uri": "https://localhost:8080/"
        },
        "id": "xDHPC7qsLtcl",
        "outputId": "29f124f0-b401-47e8-b842-23a7074d3496"
      },
      "outputs": [
        {
          "name": "stderr",
          "output_type": "stream",
          "text": [
            "/usr/local/lib/python3.7/dist-packages/ipykernel_launcher.py:8: DeprecationWarning: KerasClassifier is deprecated, use Sci-Keras (https://github.com/adriangb/scikeras) instead. See https://www.adriangb.com/scikeras/stable/migration.html for help migrating.\n",
            "  \n"
          ]
        }
      ],
      "source": [
        "#define the paramters\n",
        "cv = 10 #I want to do 10-fold-cross-validation\n",
        "epochs = 20\n",
        "batch_size = 64\n",
        "verbose = 0\n",
        "\n",
        "neural_network = KerasClassifier(build_fn = create_network, epochs=epochs, #batch_size=batch_size, \n",
        "                                 verbose=verbose)\n",
        "\n",
        "scores = cross_val_score(neural_network, X_, y_, cv=cv)"
      ]
    },
    {
      "cell_type": "code",
      "execution_count": null,
      "metadata": {
        "colab": {
          "base_uri": "https://localhost:8080/"
        },
        "id": "tpjMdTqUJA24",
        "outputId": "af143ae1-0561-4893-a6ea-d16fc3cff7a3"
      },
      "outputs": [
        {
          "name": "stdout",
          "output_type": "stream",
          "text": [
            "0.94 accuracy with a standard deviation of 0.02\n",
            "mean: 0.9360361933708191\n",
            "max value: 0.9637681245803833\n",
            "min value: 0.9057971239089966\n"
          ]
        }
      ],
      "source": [
        "print(\"%0.2f accuracy with a standard deviation of %0.2f\" % (scores.mean(), scores.std()))\n",
        "print(f\"mean: {scores.mean()}\")\n",
        "print(f\"max value: {scores.max()}\")\n",
        "print(f\"min value: {scores.min()}\")"
      ]
    },
    {
      "cell_type": "markdown",
      "metadata": {
        "id": "72p2RMxgS9M-"
      },
      "source": [
        "### RNN - Recurrent Neural Network"
      ]
    },
    {
      "cell_type": "markdown",
      "metadata": {
        "id": "5lUZZq4Sm5iY"
      },
      "source": [
        "#### Data Preprocessing"
      ]
    },
    {
      "cell_type": "code",
      "execution_count": null,
      "metadata": {
        "id": "kWW-C-dFMs_U"
      },
      "outputs": [],
      "source": [
        "METHOD = \"NN\""
      ]
    },
    {
      "cell_type": "code",
      "execution_count": null,
      "metadata": {
        "id": "xzc1wi7HS-qe"
      },
      "outputs": [],
      "source": [
        "X_RNN = data[\"cleaned_website_text\"]\n",
        "y_RNN = data[\"Category\"]"
      ]
    },
    {
      "cell_type": "markdown",
      "metadata": {
        "id": "YLERPs0Eb5Qg"
      },
      "source": [
        "The class `Tokenizer` allows to vectorize a text corpus, by turning each text into either a sequence of integers, I also add the value I want to be filtered from the text."
      ]
    },
    {
      "cell_type": "code",
      "execution_count": null,
      "metadata": {
        "colab": {
          "base_uri": "https://localhost:8080/"
        },
        "id": "4jRQoJtCuvLd",
        "outputId": "21c93588-785e-473f-dd43-a724cfbdf290"
      },
      "outputs": [
        {
          "name": "stdout",
          "output_type": "stream",
          "text": [
            "Found 57648 unique tokens.\n"
          ]
        }
      ],
      "source": [
        "# The maximum number of words to be used. (most frequent)\n",
        "MAX_NB_WORDS = 50000\n",
        "# Max number of words in each phrase.\n",
        "MAX_SEQUENCE_LENGTH = 250\n",
        "# This is fixed.\n",
        "EMBEDDING_DIM = 100\n",
        "\n",
        "tokenizer =  tf.keras.preprocessing.text.Tokenizer (num_words=MAX_NB_WORDS, filters='!\"#$%&()*+,-./:;<=>?@[\\]^_`{|}~', lower=True)\n",
        "tokenizer.fit_on_texts(data[\"cleaned_website_text\"].values)\n",
        "word_index = tokenizer.word_index\n",
        "print('Found %s unique tokens.' % len(word_index))"
      ]
    },
    {
      "cell_type": "code",
      "execution_count": null,
      "metadata": {
        "colab": {
          "base_uri": "https://localhost:8080/"
        },
        "id": "Xq8GLQRIwFJW",
        "outputId": "7b148473-78fd-42ba-cec0-03193dbeb2c7"
      },
      "outputs": [
        {
          "name": "stdout",
          "output_type": "stream",
          "text": [
            "Shape of data tensor: (1376, 250)\n",
            "Shape of label tensor: (1376, 14)\n"
          ]
        }
      ],
      "source": [
        "X_RNN = tokenizer.texts_to_sequences(data[\"cleaned_website_text\"].values)\n",
        "X_RNN = tf.keras.preprocessing.sequence.pad_sequences(X_RNN, maxlen=MAX_SEQUENCE_LENGTH)\n",
        "Y_RNN = pd.get_dummies(data[\"Category\"]).values\n",
        "\n",
        "#print shape\n",
        "print('Shape of data tensor:', X_RNN.shape)\n",
        "print('Shape of label tensor:', Y_RNN.shape)"
      ]
    },
    {
      "cell_type": "code",
      "execution_count": null,
      "metadata": {
        "colab": {
          "base_uri": "https://localhost:8080/"
        },
        "id": "9rPFb4c-uO8K",
        "outputId": "cc2fb9c1-7471-4879-d63b-c1f076f14c00"
      },
      "outputs": [
        {
          "name": "stdout",
          "output_type": "stream",
          "text": [
            "(1100, 250) (1100, 14)\n",
            "(276, 250) (276, 14)\n"
          ]
        }
      ],
      "source": [
        "X_train_RNN, X_test_RNN, Y_train_RNN, Y_test_RNN = train_test_split(X_RNN,Y_RNN, test_size = 0.20, random_state = 42)\n",
        "print(X_train_RNN.shape,Y_train_RNN.shape)\n",
        "print(X_test_RNN.shape,Y_test_RNN.shape)"
      ]
    },
    {
      "cell_type": "markdown",
      "metadata": {
        "id": "dZFFPaJlfpB5"
      },
      "source": [
        "#### Test 1"
      ]
    },
    {
      "cell_type": "markdown",
      "metadata": {
        "id": "YsSfP8n6880z"
      },
      "source": [
        "##### Define the Model"
      ]
    },
    {
      "cell_type": "code",
      "execution_count": null,
      "metadata": {
        "colab": {
          "base_uri": "https://localhost:8080/"
        },
        "id": "SPIg4XOffqpv",
        "outputId": "0ad37a5c-6f60-4823-dab5-69924021e075"
      },
      "outputs": [
        {
          "name": "stderr",
          "output_type": "stream",
          "text": [
            "WARNING:tensorflow:Layer lstm_2 will not use cuDNN kernels since it doesn't meet the criteria. It will use a generic GPU kernel as fallback when running on GPU.\n"
          ]
        }
      ],
      "source": [
        "model = Sequential()\n",
        "model.add(Embedding(MAX_NB_WORDS, EMBEDDING_DIM, input_length=X.shape[1]))\n",
        "model.add(SpatialDropout1D(0.2))\n",
        "model.add(LSTM(100, dropout=0.2, recurrent_dropout=0.2))\n",
        "model.add(Dense(64, activation='relu'))\n",
        "model.add(Dense(14, activation='softmax'))\n",
        "model.compile(loss='categorical_crossentropy', optimizer='adam', metrics=['accuracy'])"
      ]
    },
    {
      "cell_type": "code",
      "execution_count": null,
      "metadata": {
        "colab": {
          "base_uri": "https://localhost:8080/"
        },
        "id": "5yHxy-9vgb4v",
        "outputId": "0460bff9-01fb-48fc-ca33-fa72e8e62949"
      },
      "outputs": [
        {
          "name": "stderr",
          "output_type": "stream",
          "text": [
            "WARNING:tensorflow:Layer lstm_4 will not use cuDNN kernels since it doesn't meet the criteria. It will use a generic GPU kernel as fallback when running on GPU.\n"
          ]
        }
      ],
      "source": [
        "MODEL_NAME = \"NN_RNN_2\"\n",
        "RERUN = False\n",
        "validation_split = 0.2\n",
        "\n",
        "epochs = 100\n",
        "batch_size = 64\n",
        "\n",
        "\n",
        "model, history_dict = train_rnn(model, X_train_RNN, Y_train_RNN, epochs, batch_size, validation_split, MODEL_NAME, METHOD, RERUN)"
      ]
    },
    {
      "cell_type": "markdown",
      "metadata": {
        "id": "cHsJZT5X8-lf"
      },
      "source": [
        "##### Results Valutation"
      ]
    },
    {
      "cell_type": "code",
      "execution_count": null,
      "metadata": {
        "colab": {
          "base_uri": "https://localhost:8080/"
        },
        "id": "HWXmHFMCqo8P",
        "outputId": "373a42b2-2d3c-4605-9954-b124d9aba21b"
      },
      "outputs": [
        {
          "name": "stdout",
          "output_type": "stream",
          "text": [
            "9/9 [==============================] - 1s 103ms/step - loss: 3.2322 - accuracy: 0.5290\n",
            "Test set\n",
            "  Loss: 3.232\n",
            "  Accuracy: 0.529\n"
          ]
        }
      ],
      "source": [
        "accr = model.evaluate(X_test_RNN,Y_test_RNN)\n",
        "print('Test set\\n  Loss: {:0.3f}\\n  Accuracy: {:0.3f}'.format(accr[0],accr[1]))"
      ]
    },
    {
      "cell_type": "code",
      "execution_count": null,
      "metadata": {
        "colab": {
          "base_uri": "https://localhost:8080/",
          "height": 518
        },
        "id": "fA7byDjy9GH3",
        "outputId": "af35055d-05e9-4448-f0a7-8d9740b9b155"
      },
      "outputs": [
        {
          "data": {
            "text/plain": [
              "(0.0, 3.934984816928045)"
            ]
          },
          "execution_count": 54,
          "metadata": {},
          "output_type": "execute_result"
        },
        {
          "data": {
            "image/png": "[encoded data removed]",
            "text/plain": [
              "<Figure size 1152x576 with 2 Axes>"
            ]
          },
          "metadata": {},
          "output_type": "display_data"
        }
      ],
      "source": [
        "plt.figure(figsize=(16, 8))\n",
        "plt.subplot(1, 2, 1)\n",
        "plot_graphs(history_dict, 'accuracy')\n",
        "plt.ylim(None, 1)\n",
        "plt.subplot(1, 2, 2)\n",
        "plot_graphs(history_dict, 'loss')\n",
        "plt.ylim(0, None)"
      ]
    },
    {
      "cell_type": "markdown",
      "metadata": {
        "id": "ycyEsL0C8te-"
      },
      "source": [
        "Model is overfitting the data"
      ]
    },
    {
      "cell_type": "markdown",
      "metadata": {
        "id": "GPr32qab5q-Y"
      },
      "source": [
        "## Density Estimation"
      ]
    },
    {
      "cell_type": "code",
      "execution_count": null,
      "metadata": {
        "colab": {
          "base_uri": "https://localhost:8080/"
        },
        "id": "IBOLJSkvofq6",
        "outputId": "9f05a990-7f5c-48e3-de49-7edce9d4c18f"
      },
      "outputs": [
        {
          "name": "stdout",
          "output_type": "stream",
          "text": [
            "mkdir: cannot create directory ‘/content/gdrive/MyDrive/ML_workspace/models_text/DE’: File exists\n"
          ]
        }
      ],
      "source": [
        "#create dir \n",
        "DIR = \"/content/gdrive/MyDrive/ML_workspace/models_text\"\n",
        "METHOD = \"DE\"\n",
        "!mkdir {DIR}/{METHOD}"
      ]
    },
    {
      "cell_type": "code",
      "execution_count": null,
      "metadata": {
        "id": "EJSOSzokxry4"
      },
      "outputs": [],
      "source": [
        "#convert the sparse matrix to a dense matrix\n",
        "X_train = X_train.toarray().astype(float)\n",
        "X_val = X_val.toarray().astype(float)"
      ]
    },
    {
      "cell_type": "code",
      "execution_count": null,
      "metadata": {
        "id": "ZYUKe6UPxvbB"
      },
      "outputs": [],
      "source": [
        "le = preprocessing.LabelEncoder()\n",
        "\n",
        "y_train_ = le.fit(y_train)\n",
        "\n",
        "y_train_ = le.transform(y_train)\n",
        "y_val_ = le.transform(y_val)"
      ]
    },
    {
      "cell_type": "markdown",
      "metadata": {
        "id": "iSc7GF3RS9xs"
      },
      "source": [
        "#### Naive Bayes Classifier Algorithm"
      ]
    },
    {
      "cell_type": "markdown",
      "metadata": {
        "id": "lNwMBwoywXkk"
      },
      "source": [
        "##### Multinomial Naive Bayes classifier\n",
        "\n",
        "The multinomial Naive Bayes classifier is suitable for classification with discrete features (e.g., word counts for text classification). The multinomial distribution normally requires integer feature counts. However, in practice, fractional counts such as tf-idf may also work.\n",
        "\n",
        "I also tried the regular NaiveBayes, but the performance was not good enough:\n",
        "`Naive Bayes accuracy score -> 58.3333333333333333336`\n"
      ]
    },
    {
      "cell_type": "code",
      "execution_count": null,
      "metadata": {
        "id": "fo9_XrFzxnhM"
      },
      "outputs": [],
      "source": [
        "MODEL_NAME = \"MultinomialNB\"\n",
        "RERUN = True\n",
        "\n",
        "model = MultinomialNB()\n",
        "\n",
        "model = train_model(model, X_train, y_train_, MODEL_NAME, METHOD ,RERUN)"
      ]
    },
    {
      "cell_type": "code",
      "execution_count": null,
      "metadata": {
        "colab": {
          "base_uri": "https://localhost:8080/"
        },
        "id": "mZxLs6DfoaFa",
        "outputId": "2016455a-8a2a-49e0-a492-5c8b2bf1defa"
      },
      "outputs": [
        {
          "name": "stdout",
          "output_type": "stream",
          "text": [
            "Accuracy: 88.04\n",
            "F1:  87.83\n",
            "Precision:  90.68\n",
            "Recall:  88.04\n"
          ]
        }
      ],
      "source": [
        "# predict the labels on validation dataset\n",
        "y_pred = model.predict(X_val)\n",
        "\n",
        "print_stats(y_val_, y_pred)"
      ]
    },
    {
      "cell_type": "markdown",
      "metadata": {
        "id": "nvChRsC0qyxa"
      },
      "source": [
        "###### CrossValidations Accuracy"
      ]
    },
    {
      "cell_type": "code",
      "execution_count": null,
      "metadata": {
        "id": "DWV2qvoi8bhN"
      },
      "outputs": [],
      "source": [
        "X_, y_ = shuffle(X, y)"
      ]
    },
    {
      "cell_type": "code",
      "execution_count": null,
      "metadata": {
        "id": "qJIOCh_3qyxb"
      },
      "outputs": [],
      "source": [
        "#define the paramters\n",
        "cv = 10 #I want to do 10-fold-cross-validation\n",
        "\n",
        "# Create adaboost classifer object\n",
        "model = MultinomialNB()\n",
        "\n",
        "scores = cross_val_score(model, X_, y_, cv=cv)"
      ]
    },
    {
      "cell_type": "code",
      "execution_count": null,
      "metadata": {
        "colab": {
          "base_uri": "https://localhost:8080/"
        },
        "id": "DpII45Vbqyxb",
        "outputId": "2359926e-2185-4ddd-f998-a2aae630dea4"
      },
      "outputs": [
        {
          "name": "stdout",
          "output_type": "stream",
          "text": [
            "0.90 accuracy with a standard deviation of 0.02\n",
            "mean: 0.896091187982651\n",
            "max value: 0.9343065693430657\n",
            "min value: 0.8759124087591241\n"
          ]
        }
      ],
      "source": [
        "print(\"%0.2f accuracy with a standard deviation of %0.2f\" % (scores.mean(), scores.std()))\n",
        "print(f\"mean: {scores.mean()}\")\n",
        "print(f\"max value: {scores.max()}\")\n",
        "print(f\"min value: {scores.min()}\")"
      ]
    },
    {
      "cell_type": "markdown",
      "metadata": {
        "id": "q9gbvZqqw2ws"
      },
      "source": [
        "##### Complement Naive Bayes classifier\n",
        "\n",
        "The Complement Naive Bayes classifier was designed to correct the “severe assumptions” made by the standard Multinomial Naive Bayes classifier. It is particularly suited for imbalanced data sets.\n",
        "\n",
        "Since the dataset is rather unbalanced, this algorithm is more likely to get better results.\n"
      ]
    },
    {
      "cell_type": "code",
      "execution_count": null,
      "metadata": {
        "id": "7gdALJR_w8JL"
      },
      "outputs": [],
      "source": [
        "MODEL_NAME = \"ComplementNB\"\n",
        "RERUN = True\n",
        "\n",
        "model = ComplementNB()\n",
        "\n",
        "model = train_model(model, X_train, y_train_, MODEL_NAME, METHOD ,RERUN)"
      ]
    },
    {
      "cell_type": "markdown",
      "metadata": {
        "id": "a7TluG0-0yPR"
      },
      "source": [
        "###### Metrics Valutation"
      ]
    },
    {
      "cell_type": "code",
      "execution_count": null,
      "metadata": {
        "colab": {
          "base_uri": "https://localhost:8080/"
        },
        "id": "7aimElf9xRzd",
        "outputId": "c2fc0b1e-d93d-4221-b2f1-8f9e62a1c148"
      },
      "outputs": [
        {
          "name": "stdout",
          "output_type": "stream",
          "text": [
            "Accuracy: 93.48\n",
            "F1:  93.31\n",
            "Precision:  93.61\n",
            "Recall:  93.48\n"
          ]
        }
      ],
      "source": [
        "# predict the labels on validation dataset\n",
        "y_pred = model.predict(X_val)# Use accuracy_score function to get the accuracy\n",
        "print_stats(y_val_, y_pred)"
      ]
    },
    {
      "cell_type": "code",
      "execution_count": null,
      "metadata": {
        "colab": {
          "base_uri": "https://localhost:8080/",
          "height": 374
        },
        "id": "-bNhKzPt_QAi",
        "outputId": "9e1336f3-d573-469b-cd23-f2c10d140a86"
      },
      "outputs": [
        {
          "data": {
            "image/png": "[encoded data removed]",
            "text/plain": [
              "<Figure size 720x432 with 2 Axes>"
            ]
          },
          "metadata": {},
          "output_type": "display_data"
        }
      ],
      "source": [
        "plt.subplots(figsize=(10,6))\n",
        "sns.heatmap(confusion_matrix(y_pred=y_pred,y_true=y_val_),annot=True,fmt=\".1f\",linewidths=1.5,cmap=\"BuPu_r\")\n",
        "plt.show()"
      ]
    },
    {
      "cell_type": "markdown",
      "metadata": {
        "id": "D9idLSLt1ZGF"
      },
      "source": [
        "#### KNN\n",
        "\n",
        "I tried using PCA because the dimensionality is too high, but the results were not bad. I then noticed that without PCA, better results were obtained."
      ]
    },
    {
      "cell_type": "code",
      "execution_count": null,
      "metadata": {
        "id": "7ROAtlG61asx"
      },
      "outputs": [],
      "source": [
        "MODEL_NAME = \"NearestNeighbors\"\n",
        "RERUN = False\n",
        "\n",
        "model = KNeighborsClassifier(n_neighbors = 5, metric = 'minkowski', p = 2)\n",
        "\n",
        "model = train_model(model, X_train, y_train_, MODEL_NAME, METHOD ,RERUN)"
      ]
    },
    {
      "cell_type": "code",
      "execution_count": null,
      "metadata": {
        "colab": {
          "base_uri": "https://localhost:8080/"
        },
        "id": "MZhaxoct1iaz",
        "outputId": "bcbf7a41-6e86-40d1-d2b0-66fcc27e9a66"
      },
      "outputs": [
        {
          "name": "stdout",
          "output_type": "stream",
          "text": [
            "Accuracy: 89.13\n",
            "F1:  88.95\n",
            "Precision:  88.93\n",
            "Recall:  89.13\n"
          ]
        }
      ],
      "source": [
        "# predict the labels on validation dataset\n",
        "predictions_KNN = model.predict(X_val)\n",
        "print_stats(y_val_, predictions_KNN)"
      ]
    },
    {
      "cell_type": "markdown",
      "metadata": {
        "id": "glxqMpPMDLSO"
      },
      "source": [
        "##### GridSearch"
      ]
    },
    {
      "cell_type": "code",
      "execution_count": null,
      "metadata": {
        "colab": {
          "base_uri": "https://localhost:8080/"
        },
        "id": "g4LwS7GUDM7o",
        "outputId": "2f24909d-c492-4228-ebd1-7f6d8449006a"
      },
      "outputs": [
        {
          "data": {
            "text/plain": [
              "RandomizedSearchCV(estimator=KNeighborsClassifier(), n_iter=15,\n",
              "                   param_distributions={'metric': ('euclidean', 'manhattan',\n",
              "                                                   'chebyshev'),\n",
              "                                        'n_neighbors': <scipy.stats._distn_infrastructure.rv_frozen object at 0x7f9f0fd1b7d0>})"
            ]
          },
          "execution_count": 50,
          "metadata": {},
          "output_type": "execute_result"
        }
      ],
      "source": [
        "params = {\"n_neighbors\":scipy.stats.randint(1,25), \"metric\":(\"euclidean\", \"manhattan\" , \"chebyshev\")}\n",
        "neigh = KNeighborsClassifier()\n",
        "\n",
        "\n",
        "RSC = RandomizedSearchCV(n_iter = 15, estimator = neigh, param_distributions=params)\n",
        "RSC.fit(X_train, y_train_)"
      ]
    },
    {
      "cell_type": "code",
      "execution_count": null,
      "metadata": {
        "colab": {
          "base_uri": "https://localhost:8080/"
        },
        "id": "yumCXLmBERXU",
        "outputId": "dba97787-4680-4b2e-e2fa-9b38d6f514ee"
      },
      "outputs": [
        {
          "name": "stdout",
          "output_type": "stream",
          "text": [
            "Best params: {'metric': 'euclidean', 'n_neighbors': 10}\n"
          ]
        }
      ],
      "source": [
        "print(f\"Best params: {RSC.best_params_}\")\n",
        "estimator = RSC.best_estimator_"
      ]
    },
    {
      "cell_type": "code",
      "execution_count": null,
      "metadata": {
        "colab": {
          "base_uri": "https://localhost:8080/"
        },
        "id": "V1YmFm5_EOhI",
        "outputId": "a0be8da2-59ee-437f-bb1c-12d2f12aecb4"
      },
      "outputs": [
        {
          "name": "stdout",
          "output_type": "stream",
          "text": [
            "Naive Bayes Accuracy Score ->  90.94202898550725\n",
            "F1 (ComplementNB):  90.70\n",
            "Precision (ComplementNB):  91.15\n",
            "Recall (ComplementNB):  90.94\n"
          ]
        }
      ],
      "source": [
        "# predict the labels on validation dataset\n",
        "predictions_KNN = estimator.predict(X_val)# Use accuracy_score function to get the accuracy\n",
        "predictions_KNN"
      ]
    },
    {
      "cell_type": "markdown",
      "metadata": {
        "id": "5ySbBiNN5hBK"
      },
      "source": [
        "#Anomaly Detection"
      ]
    },
    {
      "cell_type": "markdown",
      "metadata": {
        "id": "fYJtpD11WP_W"
      },
      "source": [
        "## Setup"
      ]
    },
    {
      "cell_type": "markdown",
      "metadata": {
        "id": "6Q0pEheBL4yO"
      },
      "source": [
        "### Setup the enviroment"
      ]
    },
    {
      "cell_type": "code",
      "execution_count": null,
      "metadata": {
        "colab": {
          "base_uri": "https://localhost:8080/"
        },
        "id": "aB_W7cELL_fq",
        "outputId": "f37af6a4-22da-4000-ebe1-f2d01cd2ed7f"
      },
      "outputs": [
        {
          "name": "stdout",
          "output_type": "stream",
          "text": [
            "mkdir: cannot create directory ‘/content/gdrive/MyDrive/ML_workspace/models_text/ANOMALY_DETECTION’: File exists\n"
          ]
        }
      ],
      "source": [
        "#create dir \n",
        "DIR = \"/content/gdrive/MyDrive/ML_workspace/models_text\"\n",
        "METHOD = \"ANOMALY_DETECTION\"\n",
        "!mkdir {DIR}/{METHOD}"
      ]
    },
    {
      "cell_type": "markdown",
      "metadata": {
        "id": "rQYcHF0euXtw"
      },
      "source": [
        "### Support Functions"
      ]
    },
    {
      "cell_type": "code",
      "execution_count": null,
      "metadata": {
        "id": "QBbhdzpxXXFB"
      },
      "outputs": [],
      "source": [
        "def create_anomaly_detection_dataset(X, y):\n",
        "  outlier = -1\n",
        "  inlier = 1\n",
        "\n",
        "  Y = np.where(y == \"Education\", inlier, outlier)\n",
        "\n",
        "  #creating the training set \n",
        "  X_train = X[Y==inlier]\n",
        "  Y_train = Y[Y==inlier]\n",
        "\n",
        "  #make the validation set\n",
        "  X_train_, X_val_, Y_train_, Y_val_ = train_test_split(X_train, Y_train, test_size=0.2,  random_state=1000)\n",
        "\n",
        "  #convert the sparse matrix to a dense matrix\n",
        "  X_train_ = X_train_.toarray().astype(float)\n",
        "  X_val_ = X_val_.toarray().astype(float)\n",
        "\n",
        "  print(len(X_val_))\n",
        "\n",
        "  #get the other element to append to the validation set\n",
        "  X_outlier = X[Y == outlier].toarray().astype(float)\n",
        "  Y_outlier = Y[Y==outlier]\n",
        "\n",
        "  #append the other elements\n",
        "  X_val_ = np.concatenate((X_val_, X_outlier), axis=0)\n",
        "  Y_val_ = np.append(Y_val_, Y_outlier)\n",
        "\n",
        "  #create the dataset to compute the final AUC on all dataset\n",
        "  X_test = X.toarray().astype(float)\n",
        "  Y_test = Y\n",
        "  \n",
        "  return X_train_, X_val_, Y_train_, Y_val_, X_test, Y_test\n"
      ]
    },
    {
      "cell_type": "markdown",
      "metadata": {
        "id": "4ykhKHH3L77p"
      },
      "source": [
        "### Create the dataset"
      ]
    },
    {
      "cell_type": "code",
      "execution_count": null,
      "metadata": {
        "colab": {
          "base_uri": "https://localhost:8080/"
        },
        "id": "gPp85qcglX6F",
        "outputId": "8481e554-14d4-4618-ad45-fb72aba62e29"
      },
      "outputs": [
        {
          "name": "stdout",
          "output_type": "stream",
          "text": [
            "23\n",
            "91\n",
            "1285\n"
          ]
        }
      ],
      "source": [
        "X_train_, X_val_, Y_train_, Y_val_, X_test, Y_test = create_anomaly_detection_dataset(X, y)"
      ]
    },
    {
      "cell_type": "markdown",
      "metadata": {
        "id": "kiyuMDn6Xcou"
      },
      "source": [
        "The most numerous class is *Education*, I will use this class as a positive class and the other classes as an outlier, so:\n",
        "- Education = inlier\n",
        "- Other classes = anomaly\n"
      ]
    },
    {
      "cell_type": "markdown",
      "metadata": {
        "id": "1t3-xRYbbGmJ"
      },
      "source": [
        "##SVM"
      ]
    },
    {
      "cell_type": "markdown",
      "metadata": {
        "id": "HOgodrdpzt7h"
      },
      "source": [
        "### OneClass SVM"
      ]
    },
    {
      "cell_type": "code",
      "execution_count": null,
      "metadata": {
        "id": "9Lvs410DUPnu"
      },
      "outputs": [],
      "source": [
        "#parameter\n",
        "MODEL_NAME = \"OneClassSVM\"\n",
        "rerun = True\n",
        "\n",
        "#model\n",
        "clf_svm = OneClassSVM(kernel=\"linear\", nu=0.1)\n",
        "\n",
        "#check if the model exists\n",
        "file_ = f'{DIR}/{METHOD}/{MODEL_NAME}.sav'\n",
        "score_file = f'{DIR}/{METHOD}/{MODEL_NAME}_score'\n",
        "\n",
        "exists = os.path.isfile(file_)\n",
        "if exists and not rerun:\n",
        "  with open(file_,'rb') as sav_file:\n",
        "    clf_svm = pickle.load(sav_file)\n",
        "    score = np.load(f\"{score_file}.npy\", allow_pickle=True)\n",
        "else:\n",
        "  clf_svm.fit(X_train_)   \n",
        "  y_score = clf_svm.decision_function(X_val_)\n",
        "  with open(file_,'wb') as sav_file:\n",
        "    pickle.dump(clf_svm, sav_file)\n",
        "    np.save(score_file, y_score)"
      ]
    },
    {
      "cell_type": "markdown",
      "metadata": {
        "id": "jwzNxQo-UGLm"
      },
      "source": [
        "#### Results Valutation"
      ]
    },
    {
      "cell_type": "markdown",
      "metadata": {
        "id": "uCAszSnnCMTf"
      },
      "source": [
        "##### AUC for Model Selection"
      ]
    },
    {
      "cell_type": "code",
      "execution_count": null,
      "metadata": {
        "colab": {
          "base_uri": "https://localhost:8080/"
        },
        "id": "ahnBxigEW6a5",
        "outputId": "fba11a51-f501-4dfb-e319-381bdb7d74cf"
      },
      "outputs": [
        {
          "name": "stdout",
          "output_type": "stream",
          "text": [
            "ROC_AUC:  95.51\n"
          ]
        }
      ],
      "source": [
        "print('ROC_AUC: ', \"%.2f\" % (roc_auc_score(Y_val_, y_score) * 100 )) "
      ]
    },
    {
      "cell_type": "markdown",
      "metadata": {
        "id": "tjkLVSz5CSye"
      },
      "source": [
        "##### AUC all dataset"
      ]
    },
    {
      "cell_type": "code",
      "execution_count": null,
      "metadata": {
        "id": "NBLG-TDNCRoS"
      },
      "outputs": [],
      "source": [
        "#parameter\n",
        "MODEL_NAME = \"OneClassSVM\"\n",
        "#model\n",
        "clf_svm = OneClassSVM(kernel=\"linear\", nu=0.1)\n",
        "\n",
        "\n",
        "#check if the model exists\n",
        "file_ = f'{DIR}/{METHOD}/{MODEL_NAME}.sav'\n",
        "\n",
        "with open(file_,'rb') as sav_file:\n",
        "    clf_svm = pickle.load(sav_file)  \n",
        "    y_score = clf_svm.decision_function(X_test)"
      ]
    },
    {
      "cell_type": "code",
      "execution_count": null,
      "metadata": {
        "colab": {
          "base_uri": "https://localhost:8080/",
          "height": 279
        },
        "id": "HTIrBtm9DbwZ",
        "outputId": "391dfea8-7003-42db-b37a-5103fc90e910"
      },
      "outputs": [
        {
          "data": {
            "image/png": "[encoded data removed]",
            "text/plain": [
              "<Figure size 432x288 with 1 Axes>"
            ]
          },
          "metadata": {},
          "output_type": "display_data"
        }
      ],
      "source": [
        "fpr, tpr, _ = roc_curve(Y_test, y_score, pos_label=1)\n",
        "roc_display = RocCurveDisplay(fpr=fpr, tpr=tpr).plot()"
      ]
    },
    {
      "cell_type": "code",
      "execution_count": null,
      "metadata": {
        "colab": {
          "base_uri": "https://localhost:8080/"
        },
        "id": "rt7ut2p2DhIG",
        "outputId": "3eea1fc2-c3f1-4da5-87c1-a16eb626ded8"
      },
      "outputs": [
        {
          "name": "stdout",
          "output_type": "stream",
          "text": [
            "ROC_AUC:  98.93\n"
          ]
        }
      ],
      "source": [
        "print('ROC_AUC: ', \"%.2f\" % (roc_auc_score(Y_test, y_score) * 100 )) "
      ]
    },
    {
      "cell_type": "code",
      "execution_count": null,
      "metadata": {
        "colab": {
          "base_uri": "https://localhost:8080/",
          "height": 279
        },
        "id": "WbWK55ghVmBC",
        "outputId": "df7eebd2-2b51-4dfa-a5c4-c459201035c6"
      },
      "outputs": [
        {
          "data": {
            "image/png": "[encoded data removed]",
            "text/plain": [
              "<Figure size 432x288 with 2 Axes>"
            ]
          },
          "metadata": {},
          "output_type": "display_data"
        }
      ],
      "source": [
        "y_pred = clf_svm.predict(X_test)\n",
        "\n",
        "cm = confusion_matrix(Y_test, y_pred)\n",
        "cm_display = ConfusionMatrixDisplay(cm).plot()"
      ]
    },
    {
      "cell_type": "markdown",
      "metadata": {
        "id": "LVJbL_y6zm2H"
      },
      "source": [
        "### SGDOneClassSVM"
      ]
    },
    {
      "cell_type": "code",
      "execution_count": null,
      "metadata": {
        "id": "u2Wu1nPPXBSe"
      },
      "outputs": [],
      "source": [
        "#parameter\n",
        "MODEL_NAME = \"SGDOneClassSVM\"\n",
        "rerun = True\n",
        "\n",
        "#model\n",
        "clf = linear_model.SGDOneClassSVM()\n",
        "\n",
        "#check if the model exists\n",
        "file_ = f'{DIR}/{METHOD}/{MODEL_NAME}.sav'\n",
        "score_file = f'{DIR}/{METHOD}/{MODEL_NAME}_score'\n",
        "\n",
        "exists = os.path.isfile(file_)\n",
        "if exists and not rerun:\n",
        "  with open(file_,'rb') as sav_file:\n",
        "    clf = pickle.load(sav_file)\n",
        "    score = np.load(f\"{score_file}.npy\", allow_pickle=True)\n",
        "else:\n",
        "  clf.fit(X_train_)   \n",
        "  y_score = clf.decision_function(X_val_)\n",
        "  with open(file_,'wb') as sav_file:\n",
        "    pickle.dump(clf, sav_file)\n",
        "    np.save(score_file, y_score)"
      ]
    },
    {
      "cell_type": "markdown",
      "metadata": {
        "id": "y38GnQO3XSC5"
      },
      "source": [
        "#### Results Valutation"
      ]
    },
    {
      "cell_type": "markdown",
      "metadata": {
        "id": "jIhS5BAXFg67"
      },
      "source": [
        "##### AUC for Model Selection"
      ]
    },
    {
      "cell_type": "code",
      "execution_count": null,
      "metadata": {
        "colab": {
          "base_uri": "https://localhost:8080/"
        },
        "id": "lvtyEcYpXSC8",
        "outputId": "33977ccd-43c8-4dfd-96d0-a0e4c9768eb7"
      },
      "outputs": [
        {
          "name": "stdout",
          "output_type": "stream",
          "text": [
            "ROC_AUC:  95.29\n"
          ]
        }
      ],
      "source": [
        "print('ROC_AUC: ', \"%.2f\" % (roc_auc_score(Y_val_, y_score) * 100 )) "
      ]
    },
    {
      "cell_type": "markdown",
      "metadata": {
        "id": "gKj6XHWuFeAq"
      },
      "source": [
        "##### AUC all dataset"
      ]
    },
    {
      "cell_type": "code",
      "execution_count": null,
      "metadata": {
        "id": "z_UJ0EXhFeAs"
      },
      "outputs": [],
      "source": [
        "#parameter\n",
        "MODEL_NAME = \"SGDOneClassSVM\"\n",
        "#model\n",
        "clf_svm = OneClassSVM(kernel=\"linear\", nu=0.1)\n",
        "\n",
        "\n",
        "#check if the model exists\n",
        "file_ = f'{DIR}/{METHOD}/{MODEL_NAME}.sav'\n",
        "\n",
        "with open(file_,'rb') as sav_file:\n",
        "    clf_svm = pickle.load(sav_file)  \n",
        "    y_score = clf_svm.decision_function(X_test)"
      ]
    },
    {
      "cell_type": "code",
      "execution_count": null,
      "metadata": {
        "colab": {
          "base_uri": "https://localhost:8080/",
          "height": 279
        },
        "id": "BP2PE4J4FeAt",
        "outputId": "2be8b561-a335-4a11-ab3c-bbc6b164eceb"
      },
      "outputs": [
        {
          "data": {
            "image/png": "[encoded data removed]",
            "text/plain": [
              "<Figure size 432x288 with 1 Axes>"
            ]
          },
          "metadata": {},
          "output_type": "display_data"
        }
      ],
      "source": [
        "fpr, tpr, _ = roc_curve(Y_test, y_score, pos_label=1)\n",
        "roc_display = RocCurveDisplay(fpr=fpr, tpr=tpr).plot()"
      ]
    },
    {
      "cell_type": "code",
      "execution_count": null,
      "metadata": {
        "colab": {
          "base_uri": "https://localhost:8080/"
        },
        "id": "mH430EVKFeAu",
        "outputId": "85428fde-ff18-4d97-d3e1-5fec779ea436"
      },
      "outputs": [
        {
          "name": "stdout",
          "output_type": "stream",
          "text": [
            "ROC_AUC:  98.86\n"
          ]
        }
      ],
      "source": [
        "print('ROC_AUC: ', \"%.2f\" % (roc_auc_score(Y_test, y_score) * 100 )) "
      ]
    },
    {
      "cell_type": "code",
      "execution_count": null,
      "metadata": {
        "colab": {
          "base_uri": "https://localhost:8080/",
          "height": 279
        },
        "id": "sKlV9JH6FeAu",
        "outputId": "a98d1a83-bdce-4b4e-c70a-9f986ea4266a"
      },
      "outputs": [
        {
          "data": {
            "image/png": "[encoded data removed]",
            "text/plain": [
              "<Figure size 432x288 with 2 Axes>"
            ]
          },
          "metadata": {},
          "output_type": "display_data"
        }
      ],
      "source": [
        "y_pred = clf_svm.predict(X_test)\n",
        "\n",
        "cm = confusion_matrix(Y_test, y_pred)\n",
        "cm_display = ConfusionMatrixDisplay(cm).plot()"
      ]
    },
    {
      "cell_type": "markdown",
      "metadata": {
        "id": "Z1qlfm7KOc1Y"
      },
      "source": [
        "## Neural Network"
      ]
    },
    {
      "cell_type": "markdown",
      "metadata": {
        "id": "mDACdNshfuOD"
      },
      "source": [
        "### Setup"
      ]
    },
    {
      "cell_type": "markdown",
      "metadata": {
        "id": "x_UQjyWYfu9d"
      },
      "source": [
        "#### Prepare the dataset"
      ]
    },
    {
      "cell_type": "code",
      "execution_count": null,
      "metadata": {
        "id": "i6ocQFcQf6IZ"
      },
      "outputs": [],
      "source": [
        "#substitute the value -1 for the anomalies with the value 0, this will be useful \n",
        "#later for the evalutation of the standard metrics\n",
        "\n",
        "Y_train_ = np.where(Y_train_ == -1, 0, Y_train_) \n",
        "Y_val_ = np.where(Y_val_ == -1, 0, Y_val_) \n",
        "Y_test = np.where(Y_test == -1, 0, Y_test) "
      ]
    },
    {
      "cell_type": "markdown",
      "metadata": {
        "id": "1gLQmhcAzamU"
      },
      "source": [
        "### Dense Network"
      ]
    },
    {
      "cell_type": "markdown",
      "metadata": {
        "id": "7OLFCLpiNQfI"
      },
      "source": [
        "#### Test 1"
      ]
    },
    {
      "cell_type": "markdown",
      "metadata": {
        "id": "37FmBJtShwDB"
      },
      "source": [
        "##### Build and Train the model"
      ]
    },
    {
      "cell_type": "code",
      "execution_count": null,
      "metadata": {
        "id": "ild0tcCYFuBz"
      },
      "outputs": [],
      "source": [
        "N_CLASSES = 2\n",
        "model = keras.Sequential([\n",
        "    keras.layers.Dense(320, activation=\"relu\"),\n",
        "    keras.layers.Dropout(0.5),\n",
        "    keras.layers.Dense(N_CLASSES, activation=\"softmax\"),\n",
        "])\n",
        "\n",
        "model.compile(loss='sparse_categorical_crossentropy', optimizer=\"Adam\", metrics=[\"accuracy\"])"
      ]
    },
    {
      "cell_type": "code",
      "execution_count": null,
      "metadata": {
        "id": "aN0QFiIaFuBz"
      },
      "outputs": [],
      "source": [
        "#paramether defintions\n",
        "RERUN = True\n",
        "EPOCHS = 10\n",
        "VERBOSE = 0\n",
        "MODEL_NAME = \"AN_DENSE_NETWORK\"\n",
        "\n",
        "#----\n",
        "\n",
        "file_ = f'{DIR}/{METHOD}/{MODEL_NAME}.hist'\n",
        "model_file = f'{DIR}/{METHOD}/{MODEL_NAME}_model.h5'\n",
        "\n",
        "exists = os.path.isfile(file_)\n",
        "if exists and not RERUN:\n",
        "  with open(file_,'rb') as hist_file:\n",
        "    history_dict = pickle.load(hist_file)\n",
        "    model = keras.models.load_model(model_file)\n",
        "else:\n",
        "  history = model.fit(X_train_, Y_train_, epochs=EPOCHS, verbose=VERBOSE)\n",
        "  history_dict = history.history\n",
        "  with open(file_,'wb') as hist_file:\n",
        "    pickle.dump(history_dict, hist_file)\n",
        "  model.save(model_file)"
      ]
    },
    {
      "cell_type": "markdown",
      "metadata": {
        "id": "VDyyKdZJgT9b"
      },
      "source": [
        "##### Results Valutations"
      ]
    },
    {
      "cell_type": "markdown",
      "metadata": {
        "id": "laCw8wA5NALq"
      },
      "source": [
        "###### AUC\n",
        "\n",
        "The model is trained to recognize the *normal class* (*inlier*), so the prediction score is the probability of the image to belong to the *inlier class*."
      ]
    },
    {
      "cell_type": "code",
      "execution_count": null,
      "metadata": {
        "id": "KHyVnhN6M-TA"
      },
      "outputs": [],
      "source": [
        "prediction_score = model.predict(X_test) #probability to belong to the each classes\n",
        "#extract the probability of an element to stay in the positive class\n",
        "y_score = prediction_score[:, 1] "
      ]
    },
    {
      "cell_type": "code",
      "execution_count": null,
      "metadata": {
        "colab": {
          "base_uri": "https://localhost:8080/",
          "height": 279
        },
        "id": "iCGvf1LkTa5N",
        "outputId": "7d95cd75-29e9-4acb-b5de-d6dc7c4dbe07"
      },
      "outputs": [
        {
          "data": {
            "image/png": "[encoded data removed]",
            "text/plain": [
              "<Figure size 432x288 with 1 Axes>"
            ]
          },
          "metadata": {},
          "output_type": "display_data"
        }
      ],
      "source": [
        "fpr, tpr, _ = metrics.roc_curve(Y_test, y_score)\n",
        "roc_display = RocCurveDisplay(fpr=fpr, tpr=tpr).plot()"
      ]
    },
    {
      "cell_type": "code",
      "execution_count": null,
      "metadata": {
        "colab": {
          "base_uri": "https://localhost:8080/"
        },
        "id": "UnLqBO5NTa5P",
        "outputId": "c7341ebe-270e-4460-c488-f52f3ffbd9bc"
      },
      "outputs": [
        {
          "name": "stdout",
          "output_type": "stream",
          "text": [
            "ROC_AUC:  82.72\n"
          ]
        }
      ],
      "source": [
        "print('ROC_AUC: ', \"%.2f\" % (roc_auc_score(Y_test, y_score) * 100 )) \n"
      ]
    }
  ],
  "metadata": {
    "accelerator": "GPU",
    "colab": {
      "collapsed_sections": [
        "eIOO3X4j5Fe-",
        "KLVUpaxX9ak3",
        "Zb427JRI9ehu",
        "TaV7eeoNT7KS",
        "gEpeMHCD6nUe",
        "ifTQvO568Ith",
        "k6_DP8mQ8J-W",
        "PhIjGhDJNctA",
        "oJuLB0dg5lJU",
        "Fh4LUcOxGlAb",
        "TBIhbHprMnjm",
        "FftaKL_F5mbZ",
        "CFACBXi8IG_W",
        "bpILsH3D5nja",
        "oc8RF9O_XNrd",
        "wSdTkTpFf1fT",
        "cHsJZT5X8-lf",
        "GPr32qab5q-Y",
        "nvChRsC0qyxa",
        "q9gbvZqqw2ws",
        "D9idLSLt1ZGF",
        "glxqMpPMDLSO",
        "fYJtpD11WP_W",
        "6Q0pEheBL4yO",
        "1t3-xRYbbGmJ",
        "HOgodrdpzt7h",
        "jwzNxQo-UGLm",
        "tjkLVSz5CSye",
        "jIhS5BAXFg67",
        "Z1qlfm7KOc1Y"
      ],
      "toc_visible": true,
      "provenance": [],
      "authorship_tag": "ABX9TyP9PnA5jVGB0RwvdUoPGtIN",
      "include_colab_link": true
    },
    "gpuClass": "standard",
    "kernelspec": {
      "display_name": "Python 3",
      "name": "python3"
    },
    "language_info": {
      "name": "python"
    }
  },
  "nbformat": 4,
  "nbformat_minor": 0
}